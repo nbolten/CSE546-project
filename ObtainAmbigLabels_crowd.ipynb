{
 "cells": [
  {
   "cell_type": "code",
   "execution_count": 1,
   "metadata": {
    "collapsed": false
   },
   "outputs": [],
   "source": [
    "from matplotlib import pyplot as plt\n",
    "import numpy as np\n",
    "import pandas as pd\n",
    "from sklearn import cross_validation, linear_model, preprocessing\n",
    "from sklearn.metrics import precision_recall_curve, precision_score, recall_score\n",
    "from __future__ import division\n",
    "from sklearn import svm\n",
    "from sklearn.decomposition import PCA\n",
    "from sklearn.decomposition import KernelPCA\n",
    "from sklearn.cluster import KMeans\n",
    "%matplotlib inline"
   ]
  },
  {
   "cell_type": "code",
   "execution_count": 2,
   "metadata": {
    "collapsed": false
   },
   "outputs": [
    {
     "name": "stdout",
     "output_type": "stream",
     "text": [
      "0\n",
      "1000\n",
      "2000\n",
      "3000\n",
      "4000\n",
      "5000\n",
      "6000\n",
      "7000\n",
      "8000\n",
      "9000\n",
      "10000\n"
     ]
    },
    {
     "name": "stderr",
     "output_type": "stream",
     "text": [
      "c:\\python27\\lib\\site-packages\\sklearn\\preprocessing\\data.py:583: DeprecationWarning: Passing 1d arrays as data is deprecated in 0.17 and will raise ValueError in 0.19. Reshape your data either using X.reshape(-1, 1) if your data has a single feature or X.reshape(1, -1) if it contains a single sample.\n",
      "  warnings.warn(DEPRECATION_MSG_1D, DeprecationWarning)\n",
      "c:\\python27\\lib\\site-packages\\sklearn\\preprocessing\\data.py:646: DeprecationWarning: Passing 1d arrays as data is deprecated in 0.17 and will raise ValueError in 0.19. Reshape your data either using X.reshape(-1, 1) if your data has a single feature or X.reshape(1, -1) if it contains a single sample.\n",
      "  warnings.warn(DEPRECATION_MSG_1D, DeprecationWarning)\n",
      "c:\\python27\\lib\\site-packages\\sklearn\\preprocessing\\data.py:583: DeprecationWarning: Passing 1d arrays as data is deprecated in 0.17 and will raise ValueError in 0.19. Reshape your data either using X.reshape(-1, 1) if your data has a single feature or X.reshape(1, -1) if it contains a single sample.\n",
      "  warnings.warn(DEPRECATION_MSG_1D, DeprecationWarning)\n",
      "c:\\python27\\lib\\site-packages\\sklearn\\preprocessing\\data.py:646: DeprecationWarning: Passing 1d arrays as data is deprecated in 0.17 and will raise ValueError in 0.19. Reshape your data either using X.reshape(-1, 1) if your data has a single feature or X.reshape(1, -1) if it contains a single sample.\n",
      "  warnings.warn(DEPRECATION_MSG_1D, DeprecationWarning)\n",
      "c:\\python27\\lib\\site-packages\\sklearn\\utils\\validation.py:420: DataConversionWarning: Data with input dtype int64 was converted to float64 by StandardScaler.\n",
      "  warnings.warn(msg, DataConversionWarning)\n",
      "c:\\python27\\lib\\site-packages\\sklearn\\preprocessing\\data.py:583: DeprecationWarning: Passing 1d arrays as data is deprecated in 0.17 and will raise ValueError in 0.19. Reshape your data either using X.reshape(-1, 1) if your data has a single feature or X.reshape(1, -1) if it contains a single sample.\n",
      "  warnings.warn(DEPRECATION_MSG_1D, DeprecationWarning)\n",
      "c:\\python27\\lib\\site-packages\\sklearn\\utils\\validation.py:420: DataConversionWarning: Data with input dtype int64 was converted to float64 by StandardScaler.\n",
      "  warnings.warn(msg, DataConversionWarning)\n",
      "c:\\python27\\lib\\site-packages\\sklearn\\preprocessing\\data.py:646: DeprecationWarning: Passing 1d arrays as data is deprecated in 0.17 and will raise ValueError in 0.19. Reshape your data either using X.reshape(-1, 1) if your data has a single feature or X.reshape(1, -1) if it contains a single sample.\n",
      "  warnings.warn(DEPRECATION_MSG_1D, DeprecationWarning)\n"
     ]
    }
   ],
   "source": [
    "raw_data = pd.read_csv('./learndata-latest.csv')\n",
    "raw_data.head()\n",
    "crowd_labels = pd.read_csv('./crowdsource-20160208.csv')\n",
    "crowd_labels.head()\n",
    "raw_data2 = pd.DataFrame()\n",
    "\n",
    "True_disagree = 0. \n",
    "False_disagree = 0. \n",
    "\n",
    "NoConn = sum(raw_data['connected'])\n",
    "NotConn = len(raw_data) - NoConn + 0. \n",
    "\n",
    "for i in range(0,len(crowd_labels)):\n",
    "    temp = raw_data[raw_data['id_i']==crowd_labels['swi_id'][i]]\n",
    "    temp2 = temp[temp['id_j']==crowd_labels['swj_id'][i]]\n",
    "    raw_data2 = raw_data2.append(temp2,ignore_index=True)\n",
    "    \n",
    "\n",
    "    if (i%1000==0):\n",
    "        print i\n",
    "temp = pd.DataFrame({'Hlab' : raw_data2['connected']})\n",
    "raw_data2 = pd.concat([temp,raw_data2],axis=1)\n",
    "raw_data2['connected']=crowd_labels['connected']\n",
    "raw_data2.head()\n",
    "\n",
    "# Remove features that we shouldn't learn (encoded geometries and sidewalk ID numbers)\n",
    "near_line = raw_data2['near_line']  # Save for later\n",
    "del raw_data2['near_line']\n",
    "del raw_data2['id_i']\n",
    "del raw_data2['id_j']\n",
    "\n",
    "# Binarizes categorical variables \n",
    "# (e.g. if 3 categories, makes 3 cols with 1s and 0s)\n",
    "# X = pd.get_dummies(raw_data)  \n",
    "\n",
    "# Turn categorical variables into integer labels\n",
    "label_encoder = preprocessing.LabelEncoder()\n",
    "raw_data2['curbtype_i'] = label_encoder.fit_transform(raw_data2['curbtype_i'])\n",
    "raw_data2['curbtype_j'] = label_encoder.fit_transform(raw_data2['curbtype_j'])\n",
    "raw_data2['side_i'] = label_encoder.fit_transform(raw_data2['side_i'])\n",
    "raw_data2['side_j'] = label_encoder.fit_transform(raw_data2['side_j'])\n",
    "raw_data2['surftype_i'] = label_encoder.fit_transform(raw_data2['surftype_i'])\n",
    "raw_data2['surftype_j'] = label_encoder.fit_transform(raw_data2['surftype_j'])\n",
    "raw_data2['intersects'] = label_encoder.fit_transform(raw_data2['intersects'])\n",
    "\n",
    "X = raw_data2\n",
    "\n",
    "X['same_curbtype'] = (X['curbtype_i'] == X['curbtype_j']).astype(int)\n",
    "X['same_surftype'] = (X['surftype_i'] == X['surftype_j']).astype(int)\n",
    "X['same_block'] = (X['bid_i'] == X['bid_j']).astype(int)\n",
    "X['same_side'] = (X['side_i'] == X['side_j']).astype(int)\n",
    "\n",
    "# TODO: There's probably more features we can generate with these two lengths\n",
    "X['length_diff'] = abs(X['length_i'] - X['length_j'])\n",
    "X['sw_width_diff'] = abs(X['sw_width_i'] - X['sw_width_j'])\n",
    "\n",
    "y = X['connected']\n",
    "X = X.drop('connected', 1)\n",
    "X = X.drop('curbtype_i', 1)\n",
    "X = X.drop('curbtype_j', 1)\n",
    "X = X.drop('surftype_i', 1)\n",
    "X = X.drop('surftype_j', 1)\n",
    "\n",
    "X['near_angle'] = abs(X['near_angle'])\n",
    "\n",
    "del X['bid_i']  # This has NaN and will cause errors in sklearn\n",
    "del X['bid_j']\n",
    "\n",
    "del X['side_i']\n",
    "del X['side_j']\n",
    "del X['length_i']\n",
    "del X['length_j']\n",
    "del X['sw_width_i']\n",
    "del X['sw_width_j']\n",
    "\n",
    "X.head()\n",
    "\n",
    "# Scaling appropriate features by subtracting mean and scaling to unit variance\n",
    "scaler = preprocessing.StandardScaler()\n",
    "\n",
    "X['near_distance'] = scaler.fit_transform(X['near_distance'])\n",
    "X['length_diff'] = scaler.fit_transform(X['length_diff'])\n",
    "X['sw_width_diff'] = scaler.fit_transform(X['sw_width_diff'])\n"
   ]
  },
  {
   "cell_type": "code",
   "execution_count": 3,
   "metadata": {
    "collapsed": true
   },
   "outputs": [],
   "source": [
    "X_train, X_test, y_train, y_test = cross_validation.train_test_split(X, y, test_size=0.5, random_state=6883)\n",
    "\n",
    "poly = preprocessing.PolynomialFeatures(2)\n",
    "Xp = poly.fit_transform(X)\n",
    "Xp_train, Xp_test, yp_train, yp_test = cross_validation.train_test_split(Xp, y, test_size=0.5, random_state=6883)\n"
   ]
  },
  {
   "cell_type": "markdown",
   "metadata": {},
   "source": [
    "### Fit polynomial SVM "
   ]
  },
  {
   "cell_type": "code",
   "execution_count": 4,
   "metadata": {
    "collapsed": false
   },
   "outputs": [
    {
     "name": "stdout",
     "output_type": "stream",
     "text": [
      "0.956399173088\n",
      "0.929875120077\n",
      "0.858917480035\n"
     ]
    }
   ],
   "source": [
    "svmc = svm.SVC(C=1, kernel = 'linear',probability=True)\n",
    "svmc.fit(Xp_train, y_train)\n",
    "print svmc.score(Xp_test, y_test)\n",
    "svmc_pred = svmc.predict(Xp_test)\n",
    "print precision_score(y_test, svmc_pred)\n",
    "print recall_score(y_test, svmc_pred)\n"
   ]
  },
  {
   "cell_type": "code",
   "execution_count": 37,
   "metadata": {
    "collapsed": false
   },
   "outputs": [],
   "source": [
    "#get probabilities for each class \n",
    "\n",
    "Prob = svmc.predict_proba(Xp)\n",
    "LowClass1 = Prob[:,0]<0.95\n",
    "LowClass2 = Prob[:,1]<0.95\n",
    "Ambig = (LowClass1==LowClass2)\n",
    "HighClass1 = Prob[:,0]>0.95\n",
    "HighClass2 = Prob[:,1]>0.95"
   ]
  },
  {
   "cell_type": "code",
   "execution_count": 38,
   "metadata": {
    "collapsed": false
   },
   "outputs": [
    {
     "data": {
      "text/plain": [
       "array([[  1.00000000e+00,   1.00000000e+00,   0.00000000e+00, ...,\n",
       "          5.18534030e-01,   3.79083095e-01,   2.77135124e-01],\n",
       "       [  1.00000000e+00,   0.00000000e+00,   0.00000000e+00, ...,\n",
       "          6.73037793e-01,   4.31882406e-01,   2.77135124e-01],\n",
       "       [  1.00000000e+00,   1.00000000e+00,   1.00000000e+00, ...,\n",
       "          2.05453868e-01,  -1.10019442e-02,   5.89148199e-04],\n",
       "       ..., \n",
       "       [  1.00000000e+00,   0.00000000e+00,   0.00000000e+00, ...,\n",
       "          3.64954760e-01,   3.18027959e-01,   2.77135124e-01],\n",
       "       [  1.00000000e+00,   0.00000000e+00,   0.00000000e+00, ...,\n",
       "          1.77393653e-02,  -3.07104951e-01,   5.31661925e+00],\n",
       "       [  1.00000000e+00,   0.00000000e+00,   0.00000000e+00, ...,\n",
       "          4.60739387e-01,  -1.24470454e+00,   3.36261547e+00]])"
      ]
     },
     "execution_count": 38,
     "metadata": {},
     "output_type": "execute_result"
    }
   ],
   "source": [
    "Xp[Ambig]"
   ]
  },
  {
   "cell_type": "code",
   "execution_count": 39,
   "metadata": {
    "collapsed": false
   },
   "outputs": [
    {
     "name": "stdout",
     "output_type": "stream",
     "text": [
      "[[ 10429.70007673   2220.81642618]\n",
      " [ -9923.32520617   5740.48280545]\n",
      " [  3553.95703772   1593.27473839]\n",
      " ..., \n",
      " [  3431.79162459    428.41255844]\n",
      " [  3390.25189597    605.29630589]\n",
      " [-10621.31786255   1122.44109708]]\n"
     ]
    }
   ],
   "source": [
    "#plot true labels on a PCA plot \n",
    "pca = PCA(n_components=2)\n",
    "X_new = pca.fit_transform(Xp)\n",
    "print X_new"
   ]
  },
  {
   "cell_type": "code",
   "execution_count": 40,
   "metadata": {
    "collapsed": false
   },
   "outputs": [
    {
     "data": {
      "text/plain": [
       "<matplotlib.collections.PathCollection at 0x12e762b0>"
      ]
     },
     "execution_count": 40,
     "metadata": {},
     "output_type": "execute_result"
    },
    {
     "data": {
      "image/png": "[encoded data removed]",
      "text/plain": [
       "<matplotlib.figure.Figure at 0x1402cf90>"
      ]
     },
     "metadata": {},
     "output_type": "display_data"
    }
   ],
   "source": [
    "plt.scatter(np.log10(X_new[:,0]),np.log10(X_new[:,1]))"
   ]
  },
  {
   "cell_type": "code",
   "execution_count": 41,
   "metadata": {
    "collapsed": false
   },
   "outputs": [
    {
     "data": {
      "text/plain": [
       "<matplotlib.legend.Legend at 0x12fc5450>"
      ]
     },
     "execution_count": 41,
     "metadata": {},
     "output_type": "execute_result"
    },
    {
     "data": {
      "image/png": "[encoded data removed]",
      "text/plain": [
       "<matplotlib.figure.Figure at 0x1364dd10>"
      ]
     },
     "metadata": {},
     "output_type": "display_data"
    }
   ],
   "source": [
    "fig, ax = plt.subplots()\n",
    "ax.scatter(np.log10(X_new[HighClass1,0]),np.log10(X_new[HighClass1,1]), color='r')\n",
    "ax.scatter(np.log10(X_new[HighClass2,0]),np.log10(X_new[HighClass2,1]), color='b')\n",
    "ax.scatter(np.log10(X_new[Ambig,0]),np.log10(X_new[Ambig,1]), color='g')\n",
    "plt.legend(['High conf. unconnected','High conf. connected','Ambiguous'],loc=3)"
   ]
  },
  {
   "cell_type": "code",
   "execution_count": 42,
   "metadata": {
    "collapsed": false
   },
   "outputs": [
    {
     "name": "stdout",
     "output_type": "stream",
     "text": [
      "[[-2.41093324 -0.51337545]\n",
      " [ 2.29387842 -1.32697802]\n",
      " [-0.82153336 -0.36831136]\n",
      " ..., \n",
      " [-0.79329365 -0.09903899]\n",
      " [-0.78369118 -0.13992529]\n",
      " [ 2.45522613 -0.25946271]]\n"
     ]
    }
   ],
   "source": [
    "#plot true labels on a PCA plot \n",
    "kpca = PCA(n_components=2)\n",
    "X_new2 = kpca.fit_transform(X)\n",
    "print X_new2"
   ]
  },
  {
   "cell_type": "code",
   "execution_count": 43,
   "metadata": {
    "collapsed": false
   },
   "outputs": [
    {
     "data": {
      "text/plain": [
       "<matplotlib.legend.Legend at 0x130c4e90>"
      ]
     },
     "execution_count": 43,
     "metadata": {},
     "output_type": "execute_result"
    },
    {
     "data": {
      "image/png": "[encoded data removed]",
      "text/plain": [
       "<matplotlib.figure.Figure at 0x107164f0>"
      ]
     },
     "metadata": {},
     "output_type": "display_data"
    }
   ],
   "source": [
    "fig, ax = plt.subplots()\n",
    "ax.scatter(np.log10(X_new2[HighClass1,0]),np.log10(X_new2[HighClass1,1]), color='r')\n",
    "ax.scatter(np.log10(X_new2[HighClass2,0]),np.log10(X_new2[HighClass2,1]), color='b')\n",
    "ax.scatter(np.log10(X_new2[Ambig,0]),np.log10(X_new2[Ambig,1]), color='g')\n",
    "plt.legend(['High conf. unconnected','High conf. connected','Ambiguous'],loc=3)"
   ]
  },
  {
   "cell_type": "code",
   "execution_count": 44,
   "metadata": {
    "collapsed": false
   },
   "outputs": [
    {
     "name": "stdout",
     "output_type": "stream",
     "text": [
      "0.984079023823\n",
      "0.981434599156\n",
      "0.910015649452\n"
     ]
    }
   ],
   "source": [
    "#calculate efficiency in non-ambiguous\n",
    "NonAmbigIn = np.logical_or(HighClass1, HighClass2)\n",
    "print svmc.score(Xp[NonAmbigIn], y[NonAmbigIn])\n",
    "svmc_pred = svmc.predict(Xp[NonAmbigIn])\n",
    "print precision_score(y[NonAmbigIn], svmc_pred)\n",
    "print recall_score(y[NonAmbigIn], svmc_pred)\n"
   ]
  },
  {
   "cell_type": "code",
   "execution_count": 45,
   "metadata": {
    "collapsed": false
   },
   "outputs": [
    {
     "name": "stdout",
     "output_type": "stream",
     "text": [
      "0.834970530452\n",
      "0.859357696567\n",
      "0.787817258883\n"
     ]
    }
   ],
   "source": [
    "#calculate efficiency ambiguous\n",
    "print svmc.score(Xp[Ambig], y[Ambig])\n",
    "svmc_pred = svmc.predict(Xp[Ambig])\n",
    "print precision_score(y[Ambig], svmc_pred)\n",
    "print recall_score(y[Ambig], svmc_pred)\n"
   ]
  },
  {
   "cell_type": "code",
   "execution_count": 46,
   "metadata": {
    "collapsed": false
   },
   "outputs": [
    {
     "data": {
      "text/plain": [
       "8605"
      ]
     },
     "execution_count": 46,
     "metadata": {},
     "output_type": "execute_result"
    }
   ],
   "source": [
    "len(Xp) - len(Xp[Ambig])"
   ]
  },
  {
   "cell_type": "markdown",
   "metadata": {},
   "source": [
    "### Mark points on map as ambiguous and non-ambiguous"
   ]
  },
  {
   "cell_type": "code",
   "execution_count": 47,
   "metadata": {
    "collapsed": false
   },
   "outputs": [
    {
     "name": "stdout",
     "output_type": "stream",
     "text": [
      "(8605, 12)\n",
      "(2036, 12)\n"
     ]
    }
   ],
   "source": [
    "NonAmbiI = X[np.logical_or(HighClass1, HighClass2)]\n",
    "Ambi = X[Ambig]\n",
    "\n",
    "print NonAmbi.shape\n",
    "print Ambi.shape"
   ]
  },
  {
   "cell_type": "code",
   "execution_count": 48,
   "metadata": {
    "collapsed": false
   },
   "outputs": [],
   "source": [
    "# Export errors as geojson for visualizing on github\n",
    "import json\n",
    "from shapely import wkt\n",
    "from shapely.geometry import mapping\n",
    "svmc_pred = svmc.predict(Xp)\n",
    "\n",
    "geojson = {}\n",
    "geojson['type'] = 'FeatureCollection'\n",
    "geojson['features'] = []\n",
    "\n",
    "for i in range(len(y)):\n",
    "    feature = {}\n",
    "    feature['type'] = 'Feature'\n",
    "    geom = wkt.loads(near_line[i])\n",
    "    feature['geometry'] = mapping(geom)\n",
    "    if Ambig[i]:\n",
    "        if y[i]==1:\n",
    "            properties = {'actually': 1,\n",
    "                          'type': 'Ambiguous',\n",
    "                          'stroke': '#FC0000',\n",
    "                          'stroke-width': 5}\n",
    "        else:\n",
    "            properties = {'actually': 0,\n",
    "                          'type': 'Ambiguous',\n",
    "                          'stroke': '#093CA8',\n",
    "                          'stroke-width': 5}\n",
    "\n",
    "        \n",
    "        feature['properties'] = properties\n",
    "        geojson['features'].append(feature)\n",
    "        \n",
    "with open('./AmbiguousLabels.geojson', 'w') as f:\n",
    "    json.dump(geojson, f)"
   ]
  },
  {
   "cell_type": "code",
   "execution_count": 50,
   "metadata": {
    "collapsed": false
   },
   "outputs": [
    {
     "name": "stdout",
     "output_type": "stream",
     "text": [
      "0.43526292532\n"
     ]
    }
   ],
   "source": [
    "#see fraction of ambiguous 1's \n",
    "Ambig1 = sum(y[Ambig])/sum(y)\n",
    "print Ambig1\n",
    "#fraction of unambiguous 1's \n",
    "print 1- Ambig1"
   ]
  },
  {
   "cell_type": "code",
   "execution_count": 54,
   "metadata": {
    "collapsed": false
   },
   "outputs": [
    {
     "name": "stdout",
     "output_type": "stream",
     "text": [
      "0.0987689126962\n"
     ]
    }
   ],
   "source": [
    "#fraction of ambiguous 0's \n",
    "Ambig0 = sum(y[Ambig]==0)/len(y==0)\n",
    "print Ambig0"
   ]
  },
  {
   "cell_type": "code",
   "execution_count": 55,
   "metadata": {
    "collapsed": false
   },
   "outputs": [
    {
     "name": "stdout",
     "output_type": "stream",
     "text": [
      "0.483791748527\n"
     ]
    }
   ],
   "source": [
    "print sum(y[Ambig])/len(y[Ambig])"
   ]
  },
  {
   "cell_type": "code",
   "execution_count": 57,
   "metadata": {
    "collapsed": false
   },
   "outputs": [
    {
     "data": {
      "text/plain": [
       "2036"
      ]
     },
     "execution_count": 57,
     "metadata": {},
     "output_type": "execute_result"
    }
   ],
   "source": [
    "len(y[Ambig])"
   ]
  },
  {
   "cell_type": "code",
   "execution_count": null,
   "metadata": {
    "collapsed": true
   },
   "outputs": [],
   "source": []
  }
 ],
 "metadata": {
  "kernelspec": {
   "display_name": "Python 2",
   "language": "python",
   "name": "python2"
  },
  "language_info": {
   "codemirror_mode": {
    "name": "ipython",
    "version": 2
   },
   "file_extension": ".py",
   "mimetype": "text/x-python",
   "name": "python",
   "nbconvert_exporter": "python",
   "pygments_lexer": "ipython2",
   "version": "2.7.10"
  }
 },
 "nbformat": 4,
 "nbformat_minor": 0
}
