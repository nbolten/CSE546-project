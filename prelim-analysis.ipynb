{
 "cells": [
  {
   "cell_type": "code",
   "execution_count": 115,
   "metadata": {
    "collapsed": false
   },
   "outputs": [],
   "source": [
    "from matplotlib import pyplot as plt\n",
    "import numpy as np\n",
    "import pandas as pd\n",
    "from sklearn import cross_validation, linear_model, preprocessing\n",
    "from sklearn.metrics import precision_recall_curve, precision_score, recall_score\n",
    "\n",
    "%matplotlib inline"
   ]
  },
  {
   "cell_type": "code",
   "execution_count": 116,
   "metadata": {
    "collapsed": false
   },
   "outputs": [
    {
     "data": {
      "text/html": [
       "<div>\n",
       "<table border=\"1\" class=\"dataframe\">\n",
       "  <thead>\n",
       "    <tr style=\"text-align: right;\">\n",
       "      <th></th>\n",
       "      <th>connected</th>\n",
       "      <th>id_i</th>\n",
       "      <th>id_j</th>\n",
       "      <th>length_i</th>\n",
       "      <th>length_j</th>\n",
       "      <th>side_i</th>\n",
       "      <th>side_j</th>\n",
       "      <th>sw_width_i</th>\n",
       "      <th>sw_width_j</th>\n",
       "      <th>curbtype_i</th>\n",
       "      <th>curbtype_j</th>\n",
       "      <th>surftype_i</th>\n",
       "      <th>surftype_j</th>\n",
       "      <th>intersects</th>\n",
       "      <th>near_angle</th>\n",
       "      <th>near_distance</th>\n",
       "      <th>near_line</th>\n",
       "      <th>near_line_srid</th>\n",
       "      <th>bid_i</th>\n",
       "      <th>bid_j</th>\n",
       "    </tr>\n",
       "  </thead>\n",
       "  <tbody>\n",
       "    <tr>\n",
       "      <th>0</th>\n",
       "      <td>0</td>\n",
       "      <td>311020</td>\n",
       "      <td>311038</td>\n",
       "      <td>490.359398</td>\n",
       "      <td>115.855135</td>\n",
       "      <td>W</td>\n",
       "      <td>S</td>\n",
       "      <td>60</td>\n",
       "      <td>72</td>\n",
       "      <td>410A</td>\n",
       "      <td>410A</td>\n",
       "      <td>PCC</td>\n",
       "      <td>PCC</td>\n",
       "      <td>f</td>\n",
       "      <td>-1.594682</td>\n",
       "      <td>47.132893</td>\n",
       "      <td>LINESTRING(-122.305168529259 47.6332408111381,...</td>\n",
       "      <td>4326</td>\n",
       "      <td>NaN</td>\n",
       "      <td>1521</td>\n",
       "    </tr>\n",
       "    <tr>\n",
       "      <th>1</th>\n",
       "      <td>0</td>\n",
       "      <td>310307</td>\n",
       "      <td>310310</td>\n",
       "      <td>433.018123</td>\n",
       "      <td>583.746813</td>\n",
       "      <td>S</td>\n",
       "      <td>N</td>\n",
       "      <td>0</td>\n",
       "      <td>0</td>\n",
       "      <td>TEAC</td>\n",
       "      <td>NONE</td>\n",
       "      <td>UIMPRV</td>\n",
       "      <td>UIMPRV</td>\n",
       "      <td>f</td>\n",
       "      <td>3.141466</td>\n",
       "      <td>49.059254</td>\n",
       "      <td>LINESTRING(-122.309898402979 47.7066195707318,...</td>\n",
       "      <td>4326</td>\n",
       "      <td>6535</td>\n",
       "      <td>2424</td>\n",
       "    </tr>\n",
       "    <tr>\n",
       "      <th>2</th>\n",
       "      <td>0</td>\n",
       "      <td>309846</td>\n",
       "      <td>310148</td>\n",
       "      <td>397.912932</td>\n",
       "      <td>294.509977</td>\n",
       "      <td>E</td>\n",
       "      <td>S</td>\n",
       "      <td>72</td>\n",
       "      <td>72</td>\n",
       "      <td>410A</td>\n",
       "      <td>410A</td>\n",
       "      <td>PCC</td>\n",
       "      <td>PCC</td>\n",
       "      <td>f</td>\n",
       "      <td>-1.557502</td>\n",
       "      <td>34.857318</td>\n",
       "      <td>LINESTRING(-122.305978371649 47.6196275599499,...</td>\n",
       "      <td>4326</td>\n",
       "      <td>7522</td>\n",
       "      <td>5231</td>\n",
       "    </tr>\n",
       "    <tr>\n",
       "      <th>3</th>\n",
       "      <td>0</td>\n",
       "      <td>310513</td>\n",
       "      <td>311988</td>\n",
       "      <td>633.613843</td>\n",
       "      <td>303.107209</td>\n",
       "      <td>W</td>\n",
       "      <td>S</td>\n",
       "      <td>60</td>\n",
       "      <td>0</td>\n",
       "      <td>410A</td>\n",
       "      <td>410B</td>\n",
       "      <td>PCC</td>\n",
       "      <td>UIMPRV</td>\n",
       "      <td>f</td>\n",
       "      <td>1.557734</td>\n",
       "      <td>42.407581</td>\n",
       "      <td>LINESTRING(-122.355504317586 47.6942516482509,...</td>\n",
       "      <td>4326</td>\n",
       "      <td>3269</td>\n",
       "      <td>5639</td>\n",
       "    </tr>\n",
       "    <tr>\n",
       "      <th>4</th>\n",
       "      <td>0</td>\n",
       "      <td>311481</td>\n",
       "      <td>311482</td>\n",
       "      <td>368.241619</td>\n",
       "      <td>368.241619</td>\n",
       "      <td>E</td>\n",
       "      <td>W</td>\n",
       "      <td>72</td>\n",
       "      <td>72</td>\n",
       "      <td>410A</td>\n",
       "      <td>410A</td>\n",
       "      <td>PCC</td>\n",
       "      <td>PCC</td>\n",
       "      <td>f</td>\n",
       "      <td>0.000000</td>\n",
       "      <td>41.000160</td>\n",
       "      <td>LINESTRING(-122.301073702817 47.5978333443647,...</td>\n",
       "      <td>4326</td>\n",
       "      <td>5404</td>\n",
       "      <td>1390</td>\n",
       "    </tr>\n",
       "  </tbody>\n",
       "</table>\n",
       "</div>"
      ],
      "text/plain": [
       "   connected    id_i    id_j    length_i    length_j side_i side_j  \\\n",
       "0          0  311020  311038  490.359398  115.855135      W      S   \n",
       "1          0  310307  310310  433.018123  583.746813      S      N   \n",
       "2          0  309846  310148  397.912932  294.509977      E      S   \n",
       "3          0  310513  311988  633.613843  303.107209      W      S   \n",
       "4          0  311481  311482  368.241619  368.241619      E      W   \n",
       "\n",
       "   sw_width_i  sw_width_j curbtype_i curbtype_j surftype_i surftype_j  \\\n",
       "0          60          72       410A       410A        PCC        PCC   \n",
       "1           0           0       TEAC       NONE     UIMPRV     UIMPRV   \n",
       "2          72          72       410A       410A        PCC        PCC   \n",
       "3          60           0       410A       410B        PCC     UIMPRV   \n",
       "4          72          72       410A       410A        PCC        PCC   \n",
       "\n",
       "  intersects  near_angle  near_distance  \\\n",
       "0          f   -1.594682      47.132893   \n",
       "1          f    3.141466      49.059254   \n",
       "2          f   -1.557502      34.857318   \n",
       "3          f    1.557734      42.407581   \n",
       "4          f    0.000000      41.000160   \n",
       "\n",
       "                                           near_line  near_line_srid  bid_i  \\\n",
       "0  LINESTRING(-122.305168529259 47.6332408111381,...            4326    NaN   \n",
       "1  LINESTRING(-122.309898402979 47.7066195707318,...            4326   6535   \n",
       "2  LINESTRING(-122.305978371649 47.6196275599499,...            4326   7522   \n",
       "3  LINESTRING(-122.355504317586 47.6942516482509,...            4326   3269   \n",
       "4  LINESTRING(-122.301073702817 47.5978333443647,...            4326   5404   \n",
       "\n",
       "   bid_j  \n",
       "0   1521  \n",
       "1   2424  \n",
       "2   5231  \n",
       "3   5639  \n",
       "4   1390  "
      ]
     },
     "execution_count": 116,
     "metadata": {},
     "output_type": "execute_result"
    }
   ],
   "source": [
    "raw_data = pd.read_csv('./learndata-latest.csv')\n",
    "raw_data.head()"
   ]
  },
  {
   "cell_type": "code",
   "execution_count": 117,
   "metadata": {
    "collapsed": true
   },
   "outputs": [],
   "source": [
    "# Remove features that we shouldn't learn (encoded geometries and sidewalk ID numbers)\n",
    "near_line = raw_data['near_line']  # Save for later\n",
    "del raw_data['near_line']\n",
    "del raw_data['id_i']\n",
    "del raw_data['id_j']"
   ]
  },
  {
   "cell_type": "code",
   "execution_count": 118,
   "metadata": {
    "collapsed": false
   },
   "outputs": [
    {
     "data": {
      "text/html": [
       "<div>\n",
       "<table border=\"1\" class=\"dataframe\">\n",
       "  <thead>\n",
       "    <tr style=\"text-align: right;\">\n",
       "      <th></th>\n",
       "      <th>intersects</th>\n",
       "      <th>near_angle</th>\n",
       "      <th>near_distance</th>\n",
       "      <th>near_line_srid</th>\n",
       "      <th>same_curbtype</th>\n",
       "      <th>same_surftype</th>\n",
       "      <th>same_block</th>\n",
       "      <th>same_side</th>\n",
       "      <th>length_diff</th>\n",
       "      <th>sw_width_diff</th>\n",
       "    </tr>\n",
       "  </thead>\n",
       "  <tbody>\n",
       "    <tr>\n",
       "      <th>0</th>\n",
       "      <td>0</td>\n",
       "      <td>1.594682</td>\n",
       "      <td>47.132893</td>\n",
       "      <td>4326</td>\n",
       "      <td>1</td>\n",
       "      <td>0</td>\n",
       "      <td>0</td>\n",
       "      <td>0</td>\n",
       "      <td>374.504263</td>\n",
       "      <td>12</td>\n",
       "    </tr>\n",
       "    <tr>\n",
       "      <th>1</th>\n",
       "      <td>0</td>\n",
       "      <td>3.141466</td>\n",
       "      <td>49.059254</td>\n",
       "      <td>4326</td>\n",
       "      <td>0</td>\n",
       "      <td>0</td>\n",
       "      <td>0</td>\n",
       "      <td>0</td>\n",
       "      <td>150.728690</td>\n",
       "      <td>0</td>\n",
       "    </tr>\n",
       "    <tr>\n",
       "      <th>2</th>\n",
       "      <td>0</td>\n",
       "      <td>1.557502</td>\n",
       "      <td>34.857318</td>\n",
       "      <td>4326</td>\n",
       "      <td>1</td>\n",
       "      <td>0</td>\n",
       "      <td>0</td>\n",
       "      <td>0</td>\n",
       "      <td>103.402955</td>\n",
       "      <td>0</td>\n",
       "    </tr>\n",
       "    <tr>\n",
       "      <th>3</th>\n",
       "      <td>0</td>\n",
       "      <td>1.557734</td>\n",
       "      <td>42.407581</td>\n",
       "      <td>4326</td>\n",
       "      <td>0</td>\n",
       "      <td>0</td>\n",
       "      <td>0</td>\n",
       "      <td>0</td>\n",
       "      <td>330.506634</td>\n",
       "      <td>60</td>\n",
       "    </tr>\n",
       "    <tr>\n",
       "      <th>4</th>\n",
       "      <td>0</td>\n",
       "      <td>0.000000</td>\n",
       "      <td>41.000160</td>\n",
       "      <td>4326</td>\n",
       "      <td>1</td>\n",
       "      <td>0</td>\n",
       "      <td>0</td>\n",
       "      <td>0</td>\n",
       "      <td>0.000000</td>\n",
       "      <td>0</td>\n",
       "    </tr>\n",
       "  </tbody>\n",
       "</table>\n",
       "</div>"
      ],
      "text/plain": [
       "   intersects  near_angle  near_distance  near_line_srid  same_curbtype  \\\n",
       "0           0    1.594682      47.132893            4326              1   \n",
       "1           0    3.141466      49.059254            4326              0   \n",
       "2           0    1.557502      34.857318            4326              1   \n",
       "3           0    1.557734      42.407581            4326              0   \n",
       "4           0    0.000000      41.000160            4326              1   \n",
       "\n",
       "   same_surftype  same_block  same_side  length_diff  sw_width_diff  \n",
       "0              0           0          0   374.504263             12  \n",
       "1              0           0          0   150.728690              0  \n",
       "2              0           0          0   103.402955              0  \n",
       "3              0           0          0   330.506634             60  \n",
       "4              0           0          0     0.000000              0  "
      ]
     },
     "execution_count": 118,
     "metadata": {},
     "output_type": "execute_result"
    }
   ],
   "source": [
    "# Binarizes categorical variables \n",
    "# (e.g. if 3 categories, makes 3 cols with 1s and 0s)\n",
    "# X = pd.get_dummies(raw_data)  \n",
    "\n",
    "# Turn categorical variables into integer labels\n",
    "label_encoder = preprocessing.LabelEncoder()\n",
    "raw_data['curbtype_i'] = label_encoder.fit_transform(raw_data['curbtype_i'])\n",
    "raw_data['curbtype_j'] = label_encoder.fit_transform(raw_data['curbtype_j'])\n",
    "raw_data['side_i'] = label_encoder.fit_transform(raw_data['side_i'])\n",
    "raw_data['side_j'] = label_encoder.fit_transform(raw_data['side_j'])\n",
    "raw_data['surftype_i'] = label_encoder.fit_transform(raw_data['surftype_i'])\n",
    "raw_data['surftype_j'] = label_encoder.fit_transform(raw_data['surftype_j'])\n",
    "raw_data['intersects'] = label_encoder.fit_transform(raw_data['intersects'])\n",
    "\n",
    "X = raw_data\n",
    "\n",
    "X['same_curbtype'] = (X['curbtype_i'] == X['curbtype_j']).astype(int)\n",
    "X['same_surftype'] = (X['surftype_i'] == X['surftype_j']).astype(int)\n",
    "X['same_block'] = (X['bid_i'] == X['bid_j']).astype(int)\n",
    "X['same_side'] = (X['side_i'] == X['side_j']).astype(int)\n",
    "\n",
    "# TODO: There's probably more features we can generate with these two lengths\n",
    "X['length_diff'] = abs(X['length_i'] - X['length_j'])\n",
    "X['sw_width_diff'] = abs(X['sw_width_i'] - X['sw_width_j'])\n",
    "\n",
    "y = X['connected']\n",
    "X = X.drop('connected', 1)\n",
    "X = X.drop('curbtype_i', 1)\n",
    "X = X.drop('curbtype_j', 1)\n",
    "X = X.drop('surftype_i', 1)\n",
    "X = X.drop('surftype_j', 1)\n",
    "\n",
    "X['near_angle'] = abs(X['near_angle'])\n",
    "\n",
    "del X['bid_i']  # This has NaN and will cause errors in sklearn\n",
    "del X['bid_j']\n",
    "\n",
    "del X['side_i']\n",
    "del X['side_j']\n",
    "del X['length_i']\n",
    "del X['length_j']\n",
    "del X['sw_width_i']\n",
    "del X['sw_width_j']\n",
    "\n",
    "X.head()"
   ]
  },
  {
   "cell_type": "code",
   "execution_count": 119,
   "metadata": {
    "collapsed": false
   },
   "outputs": [],
   "source": [
    "# Scaling appropriate features by subtracting mean and scaling to unit variance\n",
    "scaler = preprocessing.StandardScaler()\n",
    "\n",
    "X['near_distance'] = scaler.fit_transform(X['near_distance'])\n",
    "X['length_diff'] = scaler.fit_transform(X['length_diff'])\n",
    "X['sw_width_diff'] = scaler.fit_transform(X['sw_width_diff'])"
   ]
  },
  {
   "cell_type": "code",
   "execution_count": 120,
   "metadata": {
    "collapsed": false
   },
   "outputs": [],
   "source": [
    "X_train, X_test, y_train, y_test = cross_validation.train_test_split(X, y, test_size=0.9, random_state=6883)"
   ]
  },
  {
   "cell_type": "markdown",
   "metadata": {},
   "source": [
    "### Logistic Regression"
   ]
  },
  {
   "cell_type": "code",
   "execution_count": 121,
   "metadata": {
    "collapsed": false,
    "scrolled": false
   },
   "outputs": [
    {
     "name": "stdout",
     "output_type": "stream",
     "text": [
      "0.979810656226\n",
      "intersects: 10.2995877858\n",
      "near_angle: -0.46690563099\n",
      "near_distance: 0.0\n",
      "near_line_srid: -0.00118505478665\n",
      "same_curbtype: 0.27709071445\n",
      "same_surftype: 0.0\n",
      "same_block: 3.29703252356\n",
      "same_side: 3.1930347108\n",
      "length_diff: -0.0390043909405\n",
      "sw_width_diff: -0.0711510887096\n"
     ]
    }
   ],
   "source": [
    "logistic = linear_model.LogisticRegression(penalty='l1', C=1e-1)\n",
    "logistic.fit(X_train, y_train)\n",
    "print logistic.score(X_test, y_test)\n",
    "for colname, value in zip(list(X.columns), logistic.coef_[0]):\n",
    "    print '{}: {}'.format(colname, value)"
   ]
  },
  {
   "cell_type": "code",
   "execution_count": 122,
   "metadata": {
    "collapsed": false
   },
   "outputs": [
    {
     "name": "stdout",
     "output_type": "stream",
     "text": [
      "Precision score (what fraction of predicted connections are true): 0.957160039621\n",
      "Recall score (what fraction of connections were found?): 0.922282441967\n"
     ]
    },
    {
     "data": {
      "image/png": "[encoded data removed]",
      "text/plain": [
       "<matplotlib.figure.Figure at 0x7f805b4fd650>"
      ]
     },
     "metadata": {},
     "output_type": "display_data"
    }
   ],
   "source": [
    "y_pred = logistic.predict(X_test)\n",
    "y_prob = logistic.predict_proba(X_test)[:,1]\n",
    "precision, recall, thresholds = precision_recall_curve(y_test, y_prob)\n",
    "print \"Precision score (what fraction of predicted connections are true): {}\".format(precision_score(y_test, y_pred))\n",
    "print \"Recall score (what fraction of connections were found?): {}\".format(recall_score(y_test, y_pred))\n",
    "\n",
    "plt.plot(recall, precision)\n",
    "plt.xlabel('Recall')\n",
    "plt.ylabel('Precision')\n",
    "plt.show()"
   ]
  },
  {
   "cell_type": "markdown",
   "metadata": {},
   "source": [
    "### Logistic Regression with random features"
   ]
  },
  {
   "cell_type": "code",
   "execution_count": 123,
   "metadata": {
    "collapsed": true
   },
   "outputs": [],
   "source": [
    "poly = preprocessing.PolynomialFeatures(2)\n",
    "Xp = poly.fit_transform(X)\n",
    "Xp_train, Xp_test, yp_train, yp_test = cross_validation.train_test_split(Xp, y, test_size=0.9, random_state=6883)"
   ]
  },
  {
   "cell_type": "code",
   "execution_count": 124,
   "metadata": {
    "collapsed": false
   },
   "outputs": [
    {
     "name": "stdout",
     "output_type": "stream",
     "text": [
      "Fit score: 0.979723907399\n",
      "[0 0 0 0 0 0 0 0 0 0]: 0.0\n",
      "[1 0 0 0 0 0 0 0 0 0]: 0.0\n",
      "[0 1 0 0 0 0 0 0 0 0]: 0.0\n",
      "[0 0 1 0 0 0 0 0 0 0]: 0.0\n",
      "[0 0 0 1 0 0 0 0 0 0]: -0.000752895996711\n",
      "[0 0 0 0 1 0 0 0 0 0]: 0.0\n",
      "[0 0 0 0 0 1 0 0 0 0]: 0.0\n",
      "[0 0 0 0 0 0 1 0 0 0]: 0.0\n",
      "[0 0 0 0 0 0 0 1 0 0]: 0.0\n",
      "[0 0 0 0 0 0 0 0 1 0]: 0.0\n",
      "[0 0 0 0 0 0 0 0 0 1]: 0.0\n",
      "[2 0 0 0 0 0 0 0 0 0]: 0.0\n",
      "[1 1 0 0 0 0 0 0 0 0]: 0.0\n",
      "[1 0 1 0 0 0 0 0 0 0]: 0.0\n",
      "[1 0 0 1 0 0 0 0 0 0]: 0.00396782969589\n",
      "[1 0 0 0 1 0 0 0 0 0]: 0.0\n",
      "[1 0 0 0 0 1 0 0 0 0]: 0.0\n",
      "[1 0 0 0 0 0 1 0 0 0]: 0.0\n",
      "[1 0 0 0 0 0 0 1 0 0]: 0.0\n",
      "[1 0 0 0 0 0 0 0 1 0]: 0.0\n",
      "[1 0 0 0 0 0 0 0 0 1]: 0.0\n",
      "[0 2 0 0 0 0 0 0 0 0]: 0.0411176730059\n",
      "[0 1 1 0 0 0 0 0 0 0]: 0.0\n",
      "[0 1 0 1 0 0 0 0 0 0]: -0.000189620548154\n",
      "[0 1 0 0 1 0 0 0 0 0]: 0.0\n",
      "[0 1 0 0 0 1 0 0 0 0]: 0.0\n",
      "[0 1 0 0 0 0 1 0 0 0]: 0.0\n",
      "[0 1 0 0 0 0 0 1 0 0]: 0.0\n",
      "[0 1 0 0 0 0 0 0 1 0]: 0.0821404862117\n",
      "[0 1 0 0 0 0 0 0 0 1]: 0.0\n",
      "[0 0 2 0 0 0 0 0 0 0]: 0.0\n",
      "[0 0 1 1 0 0 0 0 0 0]: -5.98144249232e-06\n",
      "[0 0 1 0 1 0 0 0 0 0]: 0.0\n",
      "[0 0 1 0 0 1 0 0 0 0]: 0.0\n",
      "[0 0 1 0 0 0 1 0 0 0]: 0.0\n",
      "[0 0 1 0 0 0 0 1 0 0]: 0.0\n",
      "[0 0 1 0 0 0 0 0 1 0]: 0.0\n",
      "[0 0 1 0 0 0 0 0 0 1]: 0.0\n",
      "[0 0 0 2 0 0 0 0 0 0]: -1.1354148786e-07\n",
      "[0 0 0 1 1 0 0 0 0 0]: 0.000108984343076\n",
      "[0 0 0 1 0 1 0 0 0 0]: 0.000455857337746\n",
      "[0 0 0 1 0 0 1 0 0 0]: 0.000827077531537\n",
      "[0 0 0 1 0 0 0 1 0 0]: 0.000894700279072\n",
      "[0 0 0 1 0 0 0 0 1 0]: -5.86555293732e-05\n",
      "[0 0 0 1 0 0 0 0 0 1]: -2.11122829026e-05\n",
      "[0 0 0 0 2 0 0 0 0 0]: 0.0\n",
      "[0 0 0 0 1 1 0 0 0 0]: 0.0\n",
      "[0 0 0 0 1 0 1 0 0 0]: 0.0\n",
      "[0 0 0 0 1 0 0 1 0 0]: 0.0\n",
      "[0 0 0 0 1 0 0 0 1 0]: 0.0\n",
      "[0 0 0 0 1 0 0 0 0 1]: 0.0\n",
      "[0 0 0 0 0 2 0 0 0 0]: 0.0\n",
      "[0 0 0 0 0 1 1 0 0 0]: 0.0\n",
      "[0 0 0 0 0 1 0 1 0 0]: 0.0\n",
      "[0 0 0 0 0 1 0 0 1 0]: 0.0\n",
      "[0 0 0 0 0 1 0 0 0 1]: 0.0\n",
      "[0 0 0 0 0 0 2 0 0 0]: 0.0\n",
      "[0 0 0 0 0 0 1 1 0 0]: 0.0\n",
      "[0 0 0 0 0 0 1 0 1 0]: 0.0\n",
      "[0 0 0 0 0 0 1 0 0 1]: 0.0\n",
      "[0 0 0 0 0 0 0 2 0 0]: 0.0\n",
      "[0 0 0 0 0 0 0 1 1 0]: 0.0\n",
      "[0 0 0 0 0 0 0 1 0 1]: 0.0\n",
      "[0 0 0 0 0 0 0 0 2 0]: 0.0\n",
      "[0 0 0 0 0 0 0 0 1 1]: 0.0\n",
      "[0 0 0 0 0 0 0 0 0 2]: 0.0\n"
     ]
    }
   ],
   "source": [
    "logisticp = linear_model.LogisticRegression(penalty='l1', C=1e-2)\n",
    "logisticp.fit(Xp_train, yp_train)\n",
    "print 'Fit score: {}'.format(logisticp.score(Xp_test, yp_test))\n",
    "for colname, value in zip(list(poly.powers_), logisticp.coef_[0]):\n",
    "    print '{}: {}'.format(colname, value)"
   ]
  },
  {
   "cell_type": "code",
   "execution_count": 125,
   "metadata": {
    "collapsed": false
   },
   "outputs": [
    {
     "name": "stdout",
     "output_type": "stream",
     "text": [
      "Precision score (what fraction of predicted connections are true): 0.955814363861\n",
      "Recall score (what fraction of connections were found?): 0.923168694822\n"
     ]
    },
    {
     "data": {
      "image/png": "[encoded data removed]",
      "text/plain": [
       "<matplotlib.figure.Figure at 0x7f807072ce50>"
      ]
     },
     "metadata": {},
     "output_type": "display_data"
    }
   ],
   "source": [
    "y_predp = logisticp.predict(Xp_test)\n",
    "y_probp = logisticp.predict_proba(Xp_test)[:,1]\n",
    "precisionp, recallp, thresholdsp = precision_recall_curve(y_test, y_probp)\n",
    "print \"Precision score (what fraction of predicted connections are true): {}\".format(precision_score(y_test, y_predp))\n",
    "print \"Recall score (what fraction of connections were found?): {}\".format(recall_score(y_test, y_predp))\n",
    "\n",
    "plt.plot(recallp, precisionp)\n",
    "plt.xlabel('Recall')\n",
    "plt.ylabel('Precision')\n",
    "plt.show()"
   ]
  },
  {
   "cell_type": "markdown",
   "metadata": {},
   "source": [
    "### Support Vector Machines"
   ]
  },
  {
   "cell_type": "code",
   "execution_count": 126,
   "metadata": {
    "collapsed": false
   },
   "outputs": [],
   "source": [
    "from sklearn import svm\n",
    "\n",
    "y_train_cls = y_train.copy()\n",
    "y_train_cls.loc[y_train == 0] = -1\n",
    "y_test_cls = y_test.copy()\n",
    "y_test_cls.loc[y_test == 0] = -1"
   ]
  },
  {
   "cell_type": "code",
   "execution_count": 127,
   "metadata": {
    "collapsed": false
   },
   "outputs": [
    {
     "name": "stdout",
     "output_type": "stream",
     "text": [
      "0.973952218746\n",
      "[[  2.15002091e+00  -4.82493685e-02   0.00000000e+00  -2.71914564e-04\n",
      "    3.04084875e-02   0.00000000e+00   5.27632949e-01   4.43981070e-01\n",
      "    0.00000000e+00  -7.89184891e-03]]\n",
      "Precision: 0.999959734246\n",
      "Recall: 0.846507822886\n"
     ]
    }
   ],
   "source": [
    "svmc = svm.LinearSVC(penalty='l1', dual=False, C=1e-2)\n",
    "svmc.fit(X_train, y_train)\n",
    "print svmc.score(X_test, y_test)\n",
    "svmc_pred = svmc.predict(X_test)\n",
    "print svmc.coef_\n",
    "print 'Precision: {}'.format(precision_score(y_test, svmc_pred))\n",
    "print 'Recall: {}'.format(recall_score(y_test, svmc_pred))"
   ]
  },
  {
   "cell_type": "markdown",
   "metadata": {
    "collapsed": true
   },
   "source": [
    "### Recovering True positives, False Positives, etc for visualization"
   ]
  },
  {
   "cell_type": "code",
   "execution_count": 128,
   "metadata": {
    "collapsed": false
   },
   "outputs": [
    {
     "name": "stdout",
     "output_type": "stream",
     "text": [
      "(30196, 10)\n",
      "(158083, 10)\n",
      "(1323, 10)\n",
      "(2523, 10)\n"
     ]
    }
   ],
   "source": [
    "X_pred = logistic.predict(X)\n",
    "\n",
    "X_out = X.copy()\n",
    "X_acc = X_pred == y\n",
    "\n",
    "true_positives = X_out[np.logical_and(X_pred, X_acc)]\n",
    "false_positives = X_out[np.logical_and(X_pred, np.logical_not(X_acc))]\n",
    "true_negatives = X_out[np.logical_and(np.logical_not(X_pred), X_acc)]\n",
    "false_negatives = X_out[np.logical_and(np.logical_not(X_pred), np.logical_not(X_acc))]\n",
    "\n",
    "print true_positives.shape\n",
    "print true_negatives.shape\n",
    "print false_positives.shape\n",
    "print false_negatives.shape"
   ]
  },
  {
   "cell_type": "code",
   "execution_count": 146,
   "metadata": {
    "collapsed": false
   },
   "outputs": [],
   "source": [
    "# We can export the data to GeoJSON for visualization. It's probably simplest to export all rows\n",
    "# as features and have a 'truth_value' property that's 'false positive', 'true positive', etc.\n",
    "\n",
    "# Actually, let's write a shapefile\n",
    "from shapely import wkt\n",
    "from shapely.geometry import mapping\n",
    "import fiona\n",
    "from fiona import crs\n",
    "\n",
    "epsg = crs.from_epsg(4269)  # \n",
    "\n",
    "# Note: this takes a while to run\n",
    "schema = {'geometry': 'LineString',\n",
    "          'properties': {'scored': 'str'}}\n",
    "\n",
    "with fiona.open('./learndata-predictions-latest.shp', 'w', 'ESRI Shapefile', schema, crs=epsg) as c:\n",
    "    for i in range(len(X_pred)):\n",
    "        feature = {}\n",
    "        feature['type'] = 'Feature'\n",
    "        geom = wkt.loads(near_line[i])\n",
    "        feature['geometry'] = mapping(geom)\n",
    "        if X_acc[i]:\n",
    "            if X_pred[i]:\n",
    "                properties = {'scored': 'true positive'}\n",
    "            else:\n",
    "                properties = {'scored': 'true negative'}\n",
    "        else:\n",
    "            if X_pred[i]:\n",
    "                properties = {'scored': 'false positive'}\n",
    "            else:\n",
    "                properties = {'scored': 'false negative'}\n",
    "        feature['properties'] = properties\n",
    "        \n",
    "        c.write(feature)"
   ]
  },
  {
   "cell_type": "code",
   "execution_count": 156,
   "metadata": {
    "collapsed": false
   },
   "outputs": [],
   "source": [
    "# Write the false positives and false negatives to geoJSON\n",
    "# for displaying on an interactive webmap\n",
    "import json\n",
    "\n",
    "geojson = {}\n",
    "geojson['type'] = 'FeatureCollection'\n",
    "geojson['features'] = []\n",
    "\n",
    "for i in range(len(X_pred)):\n",
    "    if not X_acc[i]:\n",
    "        feature = {}\n",
    "        feature['type'] = 'Feature'\n",
    "        geom = wkt.loads(near_line[i])\n",
    "        feature['geometry'] = mapping(geom)\n",
    "        if X_pred[i]:\n",
    "            properties = {'predicted': 1,\n",
    "                          'stroke': '#FC0000'}\n",
    "        else:\n",
    "            properties = {'predicted': 0,\n",
    "                          'stroke': '#093CA8'}\n",
    "        feature['properties'] = properties\n",
    "        geojson['features'].append(feature)\n",
    "        \n",
    "with open('./learndata-errors.geojson', 'w') as f:\n",
    "    json.dump(geojson, f)"
   ]
  },
  {
   "cell_type": "code",
   "execution_count": 157,
   "metadata": {
    "collapsed": true
   },
   "outputs": [],
   "source": [
    "# Same as above but with thick lines\n",
    "import json\n",
    "\n",
    "geojson = {}\n",
    "geojson['type'] = 'FeatureCollection'\n",
    "geojson['features'] = []\n",
    "\n",
    "for i in range(len(X_pred)):\n",
    "    if not X_acc[i]:\n",
    "        feature = {}\n",
    "        feature['type'] = 'Feature'\n",
    "        geom = wkt.loads(near_line[i])\n",
    "        feature['geometry'] = mapping(geom)\n",
    "        if X_pred[i]:\n",
    "            properties = {'predicted': 1,\n",
    "                          'stroke': '#FC0000',\n",
    "                          'stroke-width': 2}\n",
    "        else:\n",
    "            properties = {'predicted': 0,\n",
    "                          'stroke': '#093CA8',\n",
    "                          'stroke-width': 2}\n",
    "        feature['properties'] = properties\n",
    "        geojson['features'].append(feature)\n",
    "        \n",
    "with open('./learndata-errors-thick.geojson', 'w') as f:\n",
    "    json.dump(geojson, f)"
   ]
  },
  {
   "cell_type": "code",
   "execution_count": null,
   "metadata": {
    "collapsed": true
   },
   "outputs": [],
   "source": []
  }
 ],
 "metadata": {
  "kernelspec": {
   "display_name": "Python 2",
   "language": "python",
   "name": "python2"
  },
  "language_info": {
   "codemirror_mode": {
    "name": "ipython",
    "version": 2
   },
   "file_extension": ".py",
   "mimetype": "text/x-python",
   "name": "python",
   "nbconvert_exporter": "python",
   "pygments_lexer": "ipython2",
   "version": "2.7.9"
  }
 },
 "nbformat": 4,
 "nbformat_minor": 0
}
