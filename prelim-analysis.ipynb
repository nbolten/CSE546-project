{
 "cells": [
  {
   "cell_type": "code",
   "execution_count": 1,
   "metadata": {
    "collapsed": false
   },
   "outputs": [],
   "source": [
    "from matplotlib import pyplot as plt\n",
    "import numpy as np\n",
    "import pandas as pd\n",
    "from sklearn import cross_validation, linear_model, preprocessing\n",
    "from sklearn.metrics import precision_recall_curve, precision_score, recall_score\n",
    "\n",
    "%matplotlib inline"
   ]
  },
  {
   "cell_type": "code",
   "execution_count": 2,
   "metadata": {
    "collapsed": false
   },
   "outputs": [],
   "source": [
    "raw_data = pd.read_csv('./learndata-20151117-248.csv')\n",
    "\n",
    "# Remove features that we shouldn't learn (encoded geometries and sidewalk ID numbers)\n",
    "del raw_data['geom_i']\n",
    "del raw_data['geom_j']\n",
    "del raw_data['id_i']\n",
    "del raw_data['id_j']"
   ]
  },
  {
   "cell_type": "code",
   "execution_count": 3,
   "metadata": {
    "collapsed": false
   },
   "outputs": [
    {
     "data": {
      "text/html": [
       "<div>\n",
       "<table border=\"1\" class=\"dataframe\">\n",
       "  <thead>\n",
       "    <tr style=\"text-align: right;\">\n",
       "      <th></th>\n",
       "      <th>sw_width_i</th>\n",
       "      <th>sw_width_j</th>\n",
       "      <th>side_i</th>\n",
       "      <th>side_j</th>\n",
       "      <th>distance</th>\n",
       "      <th>intersects</th>\n",
       "      <th>angle</th>\n",
       "      <th>same_curbtype</th>\n",
       "      <th>same_surftype</th>\n",
       "    </tr>\n",
       "  </thead>\n",
       "  <tbody>\n",
       "    <tr>\n",
       "      <th>0</th>\n",
       "      <td>0</td>\n",
       "      <td>36</td>\n",
       "      <td>8</td>\n",
       "      <td>2</td>\n",
       "      <td>62.315492</td>\n",
       "      <td>0</td>\n",
       "      <td>1.534618</td>\n",
       "      <td>0</td>\n",
       "      <td>0</td>\n",
       "    </tr>\n",
       "    <tr>\n",
       "      <th>1</th>\n",
       "      <td>0</td>\n",
       "      <td>64</td>\n",
       "      <td>8</td>\n",
       "      <td>5</td>\n",
       "      <td>4.556252</td>\n",
       "      <td>0</td>\n",
       "      <td>4.676184</td>\n",
       "      <td>0</td>\n",
       "      <td>0</td>\n",
       "    </tr>\n",
       "    <tr>\n",
       "      <th>2</th>\n",
       "      <td>0</td>\n",
       "      <td>60</td>\n",
       "      <td>8</td>\n",
       "      <td>5</td>\n",
       "      <td>42.341789</td>\n",
       "      <td>0</td>\n",
       "      <td>1.534619</td>\n",
       "      <td>0</td>\n",
       "      <td>0</td>\n",
       "    </tr>\n",
       "    <tr>\n",
       "      <th>3</th>\n",
       "      <td>0</td>\n",
       "      <td>24</td>\n",
       "      <td>8</td>\n",
       "      <td>2</td>\n",
       "      <td>45.332560</td>\n",
       "      <td>0</td>\n",
       "      <td>4.676184</td>\n",
       "      <td>0</td>\n",
       "      <td>0</td>\n",
       "    </tr>\n",
       "    <tr>\n",
       "      <th>4</th>\n",
       "      <td>72</td>\n",
       "      <td>72</td>\n",
       "      <td>1</td>\n",
       "      <td>8</td>\n",
       "      <td>49.040589</td>\n",
       "      <td>0</td>\n",
       "      <td>3.141597</td>\n",
       "      <td>1</td>\n",
       "      <td>1</td>\n",
       "    </tr>\n",
       "  </tbody>\n",
       "</table>\n",
       "</div>"
      ],
      "text/plain": [
       "   sw_width_i  sw_width_j  side_i  side_j   distance  intersects     angle  \\\n",
       "0           0          36       8       2  62.315492           0  1.534618   \n",
       "1           0          64       8       5   4.556252           0  4.676184   \n",
       "2           0          60       8       5  42.341789           0  1.534619   \n",
       "3           0          24       8       2  45.332560           0  4.676184   \n",
       "4          72          72       1       8  49.040589           0  3.141597   \n",
       "\n",
       "   same_curbtype  same_surftype  \n",
       "0              0              0  \n",
       "1              0              0  \n",
       "2              0              0  \n",
       "3              0              0  \n",
       "4              1              1  "
      ]
     },
     "execution_count": 3,
     "metadata": {},
     "output_type": "execute_result"
    }
   ],
   "source": [
    "# Binarizes categorical variables \n",
    "# (e.g. if 3 categories, makes 3 cols with 1s and 0s)\n",
    "# X = pd.get_dummies(raw_data)  \n",
    "\n",
    "# Turn categorical variables into integer labels\n",
    "label_encoder = preprocessing.LabelEncoder()\n",
    "raw_data['curbtype_i'] = label_encoder.fit_transform(raw_data['curbtype_i'])\n",
    "raw_data['curbtype_j'] = label_encoder.fit_transform(raw_data['curbtype_j'])\n",
    "raw_data['side_i'] = label_encoder.fit_transform(raw_data['side_i'])\n",
    "raw_data['side_j'] = label_encoder.fit_transform(raw_data['side_j'])\n",
    "raw_data['surftype_i'] = label_encoder.fit_transform(raw_data['surftype_i'])\n",
    "raw_data['surftype_j'] = label_encoder.fit_transform(raw_data['surftype_j'])\n",
    "raw_data['intersects'] = label_encoder.fit_transform(raw_data['intersects'])\n",
    "\n",
    "X = raw_data\n",
    "\n",
    "X['same_curbtype'] = (X['curbtype_i'] == X['curbtype_j']).astype(int)\n",
    "X['same_surftype'] = (X['surftype_i'] == X['surftype_j']).astype(int)\n",
    "\n",
    "y = X['connected']\n",
    "X = X.drop('connected', 1)\n",
    "X = X.drop('curbtype_i', 1)\n",
    "X = X.drop('curbtype_j', 1)\n",
    "X = X.drop('surftype_i', 1)\n",
    "X = X.drop('surftype_j', 1)\n",
    "\n",
    "X['angle'] = abs(X['angle'])\n",
    "X.head()"
   ]
  },
  {
   "cell_type": "code",
   "execution_count": 4,
   "metadata": {
    "collapsed": false
   },
   "outputs": [],
   "source": [
    "X_train, X_test, y_train, y_test = cross_validation.train_test_split(X, y, test_size=0.9, random_state=6883)"
   ]
  },
  {
   "cell_type": "code",
   "execution_count": 5,
   "metadata": {
    "collapsed": false
   },
   "outputs": [
    {
     "name": "stdout",
     "output_type": "stream",
     "text": [
      "0.815023040589\n",
      "[ -9.58550575e-05  -1.14648927e-04   6.28603323e-05   2.81018002e-04\n",
      "  -8.94705002e-04   9.34228618e-01   3.79082628e-03   9.59214456e-03\n",
      "   7.06431099e-03]\n"
     ]
    }
   ],
   "source": [
    "ridge = linear_model.Ridge()\n",
    "ridge.fit(X_train, y_train)\n",
    "print ridge.score(X_test, y_test)\n",
    "print ridge.coef_"
   ]
  },
  {
   "cell_type": "code",
   "execution_count": 6,
   "metadata": {
    "collapsed": false
   },
   "outputs": [
    {
     "name": "stdout",
     "output_type": "stream",
     "text": [
      "0.375965821947\n",
      "[  4.25700755e-05   5.06465419e-05   0.00000000e+00   0.00000000e+00\n",
      "  -9.39980051e-03   0.00000000e+00  -0.00000000e+00  -0.00000000e+00\n",
      "  -0.00000000e+00]\n"
     ]
    }
   ],
   "source": [
    "lasso = linear_model.Lasso(alpha=0.1)\n",
    "lasso.fit(X_train, y_train)\n",
    "print lasso.score(X_test, y_test)\n",
    "print lasso.coef_"
   ]
  },
  {
   "cell_type": "code",
   "execution_count": 7,
   "metadata": {
    "collapsed": false,
    "scrolled": false
   },
   "outputs": [
    {
     "name": "stdout",
     "output_type": "stream",
     "text": [
      "0.969476043169\n",
      "[[ 0.0025569   0.00209316  0.01041353  0.01535906 -0.1061521   1.15829003\n",
      "   0.          0.          0.        ]]\n"
     ]
    }
   ],
   "source": [
    "logistic = linear_model.LogisticRegression(penalty='l1', C=0.001)\n",
    "logistic.fit(X_train, y_train)\n",
    "print logistic.score(X_test, y_test)\n",
    "print logistic.coef_"
   ]
  },
  {
   "cell_type": "code",
   "execution_count": 8,
   "metadata": {
    "collapsed": false
   },
   "outputs": [
    {
     "name": "stdout",
     "output_type": "stream",
     "text": [
      "Precision score (what fraction of predicted connections are true): 0.929254018816\n",
      "Recall score (what fraction of connections were found?): 0.836782682654\n"
     ]
    },
    {
     "data": {
      "image/png": "[encoded data removed]",
      "text/plain": [
       "<matplotlib.figure.Figure at 0x7fc0eaa8e9d0>"
      ]
     },
     "metadata": {},
     "output_type": "display_data"
    },
    {
     "data": {
      "image/png": "[encoded data removed]",
      "text/plain": [
       "<matplotlib.figure.Figure at 0x7fc0e6f5fbd0>"
      ]
     },
     "metadata": {},
     "output_type": "display_data"
    }
   ],
   "source": [
    "y_pred = logistic.predict(X_test)\n",
    "y_prob = logistic.predict_proba(X_test)[:,1]\n",
    "precision, recall, thresholds = precision_recall_curve(y_test, y_pred)\n",
    "precision2, recall2, thresholds2 = precision_recall_curve(y_test, y_prob)\n",
    "print \"Precision score (what fraction of predicted connections are true): {}\".format(precision_score(y_test, y_pred))\n",
    "print \"Recall score (what fraction of connections were found?): {}\".format(recall_score(y_test, y_pred))\n",
    "\n",
    "plt.plot(recall, precision)\n",
    "plt.show()\n",
    "plt.plot(recall2, precision2)\n",
    "plt.show()"
   ]
  },
  {
   "cell_type": "code",
   "execution_count": 9,
   "metadata": {
    "collapsed": true
   },
   "outputs": [],
   "source": [
    "# Note: doing cubic polynomial features bumps up the precision to >99%, but doesn't improve recall at all\n",
    "Xp = preprocessing.PolynomialFeatures(2).fit_transform(X)\n",
    "Xp_train, Xp_test, yp_train, yp_test = cross_validation.train_test_split(Xp, y, test_size=0.9, random_state=6883)"
   ]
  },
  {
   "cell_type": "code",
   "execution_count": 10,
   "metadata": {
    "collapsed": false
   },
   "outputs": [
    {
     "name": "stdout",
     "output_type": "stream",
     "text": [
      "0.975745938028\n",
      "[[  0.00000000e+00  -2.53252399e-02  -2.90576363e-02   0.00000000e+00\n",
      "    0.00000000e+00  -6.13391232e-02   0.00000000e+00   0.00000000e+00\n",
      "    0.00000000e+00   0.00000000e+00  -1.19117999e-04   1.70932164e-04\n",
      "    0.00000000e+00   0.00000000e+00   4.13930277e-04   6.37108740e-02\n",
      "    3.23405685e-03   0.00000000e+00   0.00000000e+00   4.96716045e-06\n",
      "   -3.83706473e-04   0.00000000e+00   1.59537771e-04   6.22582605e-02\n",
      "    1.97877590e-03   6.82379779e-03   0.00000000e+00  -9.56505745e-04\n",
      "    2.93878141e-02  -3.40038715e-03   7.99715605e-02   0.00000000e+00\n",
      "    0.00000000e+00   0.00000000e+00   0.00000000e+00  -3.78417350e-03\n",
      "    7.31318995e-02   0.00000000e+00   0.00000000e+00   0.00000000e+00\n",
      "    2.45265763e-04   0.00000000e+00  -4.78611800e-03   0.00000000e+00\n",
      "    0.00000000e+00   0.00000000e+00   0.00000000e+00   0.00000000e+00\n",
      "    0.00000000e+00   0.00000000e+00   0.00000000e+00   0.00000000e+00\n",
      "    0.00000000e+00   0.00000000e+00   0.00000000e+00]]\n"
     ]
    }
   ],
   "source": [
    "logisticp = linear_model.LogisticRegression(penalty='l1', C=0.001)\n",
    "logisticp.fit(Xp_train, yp_train)\n",
    "print logisticp.score(Xp_test, yp_test)\n",
    "print logisticp.coef_"
   ]
  },
  {
   "cell_type": "code",
   "execution_count": 11,
   "metadata": {
    "collapsed": false
   },
   "outputs": [
    {
     "name": "stdout",
     "output_type": "stream",
     "text": [
      "Precision score (what fraction of predicted connections are true): 0.982582228768\n",
      "Recall score (what fraction of connections were found?): 0.834481263446\n"
     ]
    },
    {
     "data": {
      "image/png": "[encoded data removed]",
      "text/plain": [
       "<matplotlib.figure.Figure at 0x7fc0eaa8ee90>"
      ]
     },
     "metadata": {},
     "output_type": "display_data"
    }
   ],
   "source": [
    "yp_pred = logisticp.predict(Xp_test)\n",
    "precisionp, recallp, thresholdsp = precision_recall_curve(yp_test, yp_pred)\n",
    "print \"Precision score (what fraction of predicted connections are true): {}\".format(precision_score(yp_test, yp_pred))\n",
    "print \"Recall score (what fraction of connections were found?): {}\".format(recall_score(yp_test, yp_pred))\n",
    "\n",
    "plt.plot(recallp, precisionp)\n",
    "plt.show()"
   ]
  },
  {
   "cell_type": "code",
   "execution_count": 26,
   "metadata": {
    "collapsed": false
   },
   "outputs": [],
   "source": [
    "from sklearn import svm\n",
    "\n",
    "y_train_cls = y_train.copy()\n",
    "y_train_cls.loc[y_train == 0] = -1\n",
    "y_test_cls = y_test.copy()\n",
    "y_test_cls.loc[y_test == 0] = -1"
   ]
  },
  {
   "cell_type": "code",
   "execution_count": 42,
   "metadata": {
    "collapsed": false
   },
   "outputs": [
    {
     "name": "stdout",
     "output_type": "stream",
     "text": [
      "0.977585406287\n",
      "[[ -7.67909804e-04  -8.12108814e-04  -7.90201033e-03  -7.27645383e-03\n",
      "   -1.36163095e-02   1.34451455e+00  -1.04459753e-02   0.00000000e+00\n",
      "    0.00000000e+00]]\n",
      "0.999979989194\n",
      "0.833380584694\n"
     ]
    }
   ],
   "source": [
    "svmc = svm.LinearSVC(penalty='l1', dual=False, C=1e-3)\n",
    "svmc.fit(X_train, y_train)\n",
    "print svmc.score(X_test, y_test)\n",
    "svmc_pred = svmc.predict(X_test)\n",
    "print svmc.coef_\n",
    "print precision_score(y_test, svmc_pred)\n",
    "print recall_score(y_test, svmc_pred)"
   ]
  },
  {
   "cell_type": "code",
   "execution_count": 45,
   "metadata": {
    "collapsed": false
   },
   "outputs": [
    {
     "name": "stdout",
     "output_type": "stream",
     "text": [
      "0.977585406287\n",
      "[[ -4.71260587e-01  -9.36618629e-04  -8.88237214e-04  -1.99345910e-02\n",
      "   -1.84630682e-02   5.31752452e-04   2.17953716e-01   7.83404198e-02\n",
      "    6.48054514e-02   0.00000000e+00  -7.88467705e-07   2.76551441e-06\n",
      "    3.13499508e-05   1.03396933e-05   8.91716496e-06   1.05545994e-03\n",
      "    2.93267208e-04  -3.83332333e-04  -5.55296208e-04   1.39438550e-06\n",
      "   -3.27429872e-05   5.02270027e-05   1.60050289e-06   2.48946525e-04\n",
      "    1.54983762e-04   1.53498675e-04  -3.53453019e-04  -8.75806749e-04\n",
      "    6.83087186e-03  -1.45451183e-05   2.05065078e-02   2.95567512e-04\n",
      "   -6.00323686e-05  -1.23077265e-03  -9.27843819e-04  -7.86200526e-05\n",
      "    0.00000000e+00  -8.68054033e-04  -1.98330068e-03   3.51292960e-03\n",
      "    9.53770631e-07   0.00000000e+00  -9.64955678e-04  -6.44470005e-04\n",
      "   -1.70040649e-04   1.69664031e+00   0.00000000e+00   0.00000000e+00\n",
      "   -4.77345114e-02  -1.16216151e-02  -1.19543305e-03   6.08055055e-03\n",
      "    1.58615138e-02   5.19784560e-03   2.87089859e-02]]\n",
      "0.999979989194\n",
      "0.833380584694\n"
     ]
    }
   ],
   "source": [
    "svmc2 = svm.LinearSVC(penalty='l1', dual=False, C=1)\n",
    "svmc2.fit(Xp_train, y_train)\n",
    "print svmc2.score(Xp_test, y_test)\n",
    "svmc_pred2 = svmc2.predict(Xp_test)\n",
    "print svmc2.coef_\n",
    "print precision_score(y_test, svmc_pred2)\n",
    "print recall_score(y_test, svmc_pred2)"
   ]
  },
  {
   "cell_type": "code",
   "execution_count": null,
   "metadata": {
    "collapsed": true
   },
   "outputs": [],
   "source": [
    "precision_recall_curve(y_test, svm.LinearSVC().fit(X_train, y_train).predict(X_test))"
   ]
  }
 ],
 "metadata": {
  "kernelspec": {
   "display_name": "Python 2",
   "language": "python",
   "name": "python2"
  },
  "language_info": {
   "codemirror_mode": {
    "name": "ipython",
    "version": 2
   },
   "file_extension": ".py",
   "mimetype": "text/x-python",
   "name": "python",
   "nbconvert_exporter": "python",
   "pygments_lexer": "ipython2",
   "version": "2.7.9"
  }
 },
 "nbformat": 4,
 "nbformat_minor": 0
}
