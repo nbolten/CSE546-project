{
 "cells": [
  {
   "cell_type": "code",
   "execution_count": 32,
   "metadata": {
    "collapsed": false
   },
   "outputs": [],
   "source": [
    "from matplotlib import pyplot as plt\n",
    "import numpy as np\n",
    "import pandas as pd\n",
    "from sklearn import cross_validation, linear_model, preprocessing\n",
    "from sklearn.metrics import precision_recall_curve, precision_score, recall_score\n",
    "\n",
    "%matplotlib inline"
   ]
  },
  {
   "cell_type": "code",
   "execution_count": 33,
   "metadata": {
    "collapsed": false
   },
   "outputs": [],
   "source": [
    "raw_data = pd.read_csv('./learndata-latest.csv')\n",
    "\n",
    "# Remove features that we shouldn't learn (encoded geometries and sidewalk ID numbers)\n",
    "del raw_data['geom_i']\n",
    "del raw_data['geom_j']\n",
    "del raw_data['id_i']\n",
    "del raw_data['id_j']"
   ]
  },
  {
   "cell_type": "code",
   "execution_count": 34,
   "metadata": {
    "collapsed": false
   },
   "outputs": [
    {
     "data": {
      "text/html": [
       "<div>\n",
       "<table border=\"1\" class=\"dataframe\">\n",
       "  <thead>\n",
       "    <tr style=\"text-align: right;\">\n",
       "      <th></th>\n",
       "      <th>sw_width_i</th>\n",
       "      <th>sw_width_j</th>\n",
       "      <th>side_i</th>\n",
       "      <th>side_j</th>\n",
       "      <th>distance</th>\n",
       "      <th>intersects</th>\n",
       "      <th>angle</th>\n",
       "      <th>same_curbtype</th>\n",
       "      <th>same_surftype</th>\n",
       "      <th>same_block</th>\n",
       "    </tr>\n",
       "  </thead>\n",
       "  <tbody>\n",
       "    <tr>\n",
       "      <th>0</th>\n",
       "      <td>0</td>\n",
       "      <td>0</td>\n",
       "      <td>8</td>\n",
       "      <td>1</td>\n",
       "      <td>49.020575</td>\n",
       "      <td>0</td>\n",
       "      <td>3.141300</td>\n",
       "      <td>1</td>\n",
       "      <td>1</td>\n",
       "      <td>0</td>\n",
       "    </tr>\n",
       "    <tr>\n",
       "      <th>1</th>\n",
       "      <td>0</td>\n",
       "      <td>0</td>\n",
       "      <td>8</td>\n",
       "      <td>8</td>\n",
       "      <td>26.925716</td>\n",
       "      <td>0</td>\n",
       "      <td>3.141300</td>\n",
       "      <td>1</td>\n",
       "      <td>1</td>\n",
       "      <td>0</td>\n",
       "    </tr>\n",
       "    <tr>\n",
       "      <th>2</th>\n",
       "      <td>72</td>\n",
       "      <td>48</td>\n",
       "      <td>1</td>\n",
       "      <td>5</td>\n",
       "      <td>0.000000</td>\n",
       "      <td>1</td>\n",
       "      <td>4.701816</td>\n",
       "      <td>1</td>\n",
       "      <td>1</td>\n",
       "      <td>1</td>\n",
       "    </tr>\n",
       "    <tr>\n",
       "      <th>3</th>\n",
       "      <td>72</td>\n",
       "      <td>0</td>\n",
       "      <td>1</td>\n",
       "      <td>2</td>\n",
       "      <td>0.000000</td>\n",
       "      <td>1</td>\n",
       "      <td>1.570570</td>\n",
       "      <td>0</td>\n",
       "      <td>1</td>\n",
       "      <td>1</td>\n",
       "    </tr>\n",
       "    <tr>\n",
       "      <th>4</th>\n",
       "      <td>72</td>\n",
       "      <td>72</td>\n",
       "      <td>1</td>\n",
       "      <td>2</td>\n",
       "      <td>0.000000</td>\n",
       "      <td>1</td>\n",
       "      <td>1.689211</td>\n",
       "      <td>1</td>\n",
       "      <td>1</td>\n",
       "      <td>1</td>\n",
       "    </tr>\n",
       "  </tbody>\n",
       "</table>\n",
       "</div>"
      ],
      "text/plain": [
       "   sw_width_i  sw_width_j  side_i  side_j   distance  intersects     angle  \\\n",
       "0           0           0       8       1  49.020575           0  3.141300   \n",
       "1           0           0       8       8  26.925716           0  3.141300   \n",
       "2          72          48       1       5   0.000000           1  4.701816   \n",
       "3          72           0       1       2   0.000000           1  1.570570   \n",
       "4          72          72       1       2   0.000000           1  1.689211   \n",
       "\n",
       "   same_curbtype  same_surftype  same_block  \n",
       "0              1              1           0  \n",
       "1              1              1           0  \n",
       "2              1              1           1  \n",
       "3              0              1           1  \n",
       "4              1              1           1  "
      ]
     },
     "execution_count": 34,
     "metadata": {},
     "output_type": "execute_result"
    }
   ],
   "source": [
    "# Binarizes categorical variables \n",
    "# (e.g. if 3 categories, makes 3 cols with 1s and 0s)\n",
    "# X = pd.get_dummies(raw_data)  \n",
    "\n",
    "# Turn categorical variables into integer labels\n",
    "label_encoder = preprocessing.LabelEncoder()\n",
    "raw_data['curbtype_i'] = label_encoder.fit_transform(raw_data['curbtype_i'])\n",
    "raw_data['curbtype_j'] = label_encoder.fit_transform(raw_data['curbtype_j'])\n",
    "raw_data['side_i'] = label_encoder.fit_transform(raw_data['side_i'])\n",
    "raw_data['side_j'] = label_encoder.fit_transform(raw_data['side_j'])\n",
    "raw_data['surftype_i'] = label_encoder.fit_transform(raw_data['surftype_i'])\n",
    "raw_data['surftype_j'] = label_encoder.fit_transform(raw_data['surftype_j'])\n",
    "raw_data['intersects'] = label_encoder.fit_transform(raw_data['intersects'])\n",
    "\n",
    "X = raw_data\n",
    "\n",
    "X['same_curbtype'] = (X['curbtype_i'] == X['curbtype_j']).astype(int)\n",
    "X['same_surftype'] = (X['surftype_i'] == X['surftype_j']).astype(int)\n",
    "X['same_block'] = (X['bid_i'] == X['bid_j']).astype(int)\n",
    "\n",
    "y = X['connected']\n",
    "X = X.drop('connected', 1)\n",
    "X = X.drop('curbtype_i', 1)\n",
    "X = X.drop('curbtype_j', 1)\n",
    "X = X.drop('surftype_i', 1)\n",
    "X = X.drop('surftype_j', 1)\n",
    "\n",
    "X['angle'] = abs(X['angle'])\n",
    "\n",
    "del X['bid_i']  # This has NaN and will cause errors in sklearn\n",
    "del X['bid_j']\n",
    "\n",
    "X.head()"
   ]
  },
  {
   "cell_type": "code",
   "execution_count": 60,
   "metadata": {
    "collapsed": false
   },
   "outputs": [],
   "source": [
    "X_train, X_test, y_train, y_test = cross_validation.train_test_split(X, y, test_size=0.9, random_state=6883)"
   ]
  },
  {
   "cell_type": "code",
   "execution_count": 61,
   "metadata": {
    "collapsed": false
   },
   "outputs": [
    {
     "name": "stdout",
     "output_type": "stream",
     "text": [
      "0.831264452527\n",
      "[ -6.11754117e-05  -6.02592460e-05   2.56262684e-04   4.63388966e-04\n",
      "  -2.20081797e-04   8.50143045e-01   2.68712000e-03   1.29405346e-02\n",
      "   6.39893906e-03   1.56591929e-01]\n"
     ]
    }
   ],
   "source": [
    "ridge = linear_model.Ridge()\n",
    "ridge.fit(X_train, y_train)\n",
    "print ridge.score(X_test, y_test)\n",
    "print ridge.coef_"
   ]
  },
  {
   "cell_type": "code",
   "execution_count": 62,
   "metadata": {
    "collapsed": false
   },
   "outputs": [
    {
     "name": "stdout",
     "output_type": "stream",
     "text": [
      "0.375982893864\n",
      "[  1.02582589e-04   2.52503180e-05  -0.00000000e+00  -0.00000000e+00\n",
      "  -9.32733905e-03   0.00000000e+00  -0.00000000e+00  -0.00000000e+00\n",
      "  -0.00000000e+00   0.00000000e+00]\n"
     ]
    }
   ],
   "source": [
    "lasso = linear_model.Lasso(alpha=0.1)\n",
    "lasso.fit(X_train, y_train)\n",
    "print lasso.score(X_test, y_test)\n",
    "print lasso.coef_"
   ]
  },
  {
   "cell_type": "code",
   "execution_count": 63,
   "metadata": {
    "collapsed": false,
    "scrolled": false
   },
   "outputs": [
    {
     "name": "stdout",
     "output_type": "stream",
     "text": [
      "0.967860900308\n",
      "sw_width_i: 0.0024823385478\n",
      "sw_width_j: 0.00264432941801\n",
      "side_i: 0.00212766244887\n",
      "side_j: 0.00933196359718\n",
      "distance: -0.106642749236\n",
      "intersects: 1.07221016024\n",
      "angle: 0.0\n",
      "same_curbtype: 0.0\n",
      "same_surftype: 0.0\n",
      "same_block: 0.138601412078\n"
     ]
    }
   ],
   "source": [
    "logistic = linear_model.LogisticRegression(penalty='l1', C=0.001)\n",
    "logistic.fit(X_train, y_train)\n",
    "print logistic.score(X_test, y_test)\n",
    "for colname, value in zip(list(X.columns), logistic.coef_[0]):\n",
    "    print '{}: {}'.format(colname, value)"
   ]
  },
  {
   "cell_type": "code",
   "execution_count": 64,
   "metadata": {
    "collapsed": false
   },
   "outputs": [
    {
     "name": "stdout",
     "output_type": "stream",
     "text": [
      "Precision score (what fraction of predicted connections are true): 0.917709837174\n",
      "Recall score (what fraction of connections were found?): 0.836381199827\n"
     ]
    },
    {
     "data": {
      "image/png": "[encoded data removed]",
      "text/plain": [
       "<matplotlib.figure.Figure at 0x7fe7a5624650>"
      ]
     },
     "metadata": {},
     "output_type": "display_data"
    }
   ],
   "source": [
    "y_pred = logistic.predict(X_test)\n",
    "y_prob = logistic.predict_proba(X_test)[:,1]\n",
    "precision, recall, thresholds = precision_recall_curve(y_test, y_prob)\n",
    "print \"Precision score (what fraction of predicted connections are true): {}\".format(precision_score(y_test, y_pred))\n",
    "print \"Recall score (what fraction of connections were found?): {}\".format(recall_score(y_test, y_pred))\n",
    "\n",
    "plt.plot(recall, precision)\n",
    "plt.xlabel('Recall')\n",
    "plt.ylabel('Precision')\n",
    "plt.show()"
   ]
  },
  {
   "cell_type": "code",
   "execution_count": 65,
   "metadata": {
    "collapsed": true
   },
   "outputs": [],
   "source": [
    "# Note: doing cubic polynomial features bumps up the precision to >99%, but doesn't improve recall at all\n",
    "Xp = preprocessing.PolynomialFeatures(2).fit_transform(X)\n",
    "Xp_train, Xp_test, yp_train, yp_test = cross_validation.train_test_split(Xp, y, test_size=0.9, random_state=6883)"
   ]
  },
  {
   "cell_type": "code",
   "execution_count": 66,
   "metadata": {
    "collapsed": false
   },
   "outputs": [
    {
     "name": "stdout",
     "output_type": "stream",
     "text": [
      "0.975384774138\n",
      "[[  0.00000000e+00  -3.83326673e-02  -3.66553663e-02   0.00000000e+00\n",
      "    0.00000000e+00  -7.53976724e-02   0.00000000e+00   0.00000000e+00\n",
      "    0.00000000e+00   0.00000000e+00   0.00000000e+00  -7.18058693e-05\n",
      "    1.23225710e-04   1.34322275e-04  -2.16214780e-04   6.24969522e-04\n",
      "    6.93678485e-02   2.18638459e-03   4.28031677e-03   0.00000000e+00\n",
      "    1.30067502e-02  -1.27767800e-06  -1.14013756e-03  -1.43918794e-04\n",
      "    5.82117310e-04   6.83766741e-02   1.19527244e-03   4.32724142e-03\n",
      "    0.00000000e+00   1.18054919e-02   0.00000000e+00   1.81712015e-02\n",
      "   -1.47017123e-03   9.45480103e-02   0.00000000e+00   0.00000000e+00\n",
      "    0.00000000e+00   0.00000000e+00   0.00000000e+00  -1.76070815e-03\n",
      "    8.86507790e-02   0.00000000e+00   0.00000000e+00   0.00000000e+00\n",
      "    0.00000000e+00  -5.70158268e-04   0.00000000e+00  -2.22695865e-03\n",
      "    4.40009581e-03   0.00000000e+00   6.47014175e-02   0.00000000e+00\n",
      "    0.00000000e+00   0.00000000e+00   0.00000000e+00   0.00000000e+00\n",
      "    0.00000000e+00   0.00000000e+00   0.00000000e+00   0.00000000e+00\n",
      "    0.00000000e+00   0.00000000e+00   0.00000000e+00   0.00000000e+00\n",
      "    0.00000000e+00   0.00000000e+00]]\n"
     ]
    }
   ],
   "source": [
    "logisticp = linear_model.LogisticRegression(penalty='l1', C=0.001)\n",
    "logisticp.fit(Xp_train, yp_train)\n",
    "print logisticp.score(Xp_test, yp_test)\n",
    "print logisticp.coef_"
   ]
  },
  {
   "cell_type": "code",
   "execution_count": 68,
   "metadata": {
    "collapsed": false
   },
   "outputs": [
    {
     "name": "stdout",
     "output_type": "stream",
     "text": [
      "Precision score (what fraction of predicted connections are true): 0.978432557867\n",
      "Recall score (what fraction of connections were found?): 0.835665034476\n"
     ]
    },
    {
     "data": {
      "image/png": "[encoded data removed]",
      "text/plain": [
       "<matplotlib.figure.Figure at 0x7fe7a562a390>"
      ]
     },
     "metadata": {},
     "output_type": "display_data"
    }
   ],
   "source": [
    "yp_pred = logisticp.predict(Xp_test)\n",
    "precisionp, recallp, thresholdsp = precision_recall_curve(yp_test, yp_pred)\n",
    "print \"Precision score (what fraction of predicted connections are true): {}\".format(precision_score(yp_test, yp_pred))\n",
    "print \"Recall score (what fraction of connections were found?): {}\".format(recall_score(yp_test, yp_pred))\n",
    "\n",
    "plt.plot(recallp, precisionp)\n",
    "plt.show()"
   ]
  },
  {
   "cell_type": "code",
   "execution_count": 43,
   "metadata": {
    "collapsed": false
   },
   "outputs": [],
   "source": [
    "from sklearn import svm\n",
    "\n",
    "y_train_cls = y_train.copy()\n",
    "y_train_cls.loc[y_train == 0] = -1\n",
    "y_test_cls = y_test.copy()\n",
    "y_test_cls.loc[y_test == 0] = -1"
   ]
  },
  {
   "cell_type": "code",
   "execution_count": 44,
   "metadata": {
    "collapsed": false
   },
   "outputs": [
    {
     "name": "stdout",
     "output_type": "stream",
     "text": [
      "0.977486703112\n",
      "[[ -7.56431817e-04  -7.10116035e-04  -8.27694825e-03  -7.12235299e-03\n",
      "   -1.15331192e-02   1.27229827e+00  -1.27636447e-02   0.00000000e+00\n",
      "    0.00000000e+00   2.14520656e-01]]\n",
      "0.999960007998\n",
      "0.832883648113\n"
     ]
    }
   ],
   "source": [
    "svmc = svm.LinearSVC(penalty='l1', dual=False, C=1e-3)\n",
    "svmc.fit(X_train, y_train)\n",
    "print svmc.score(X_test, y_test)\n",
    "svmc_pred = svmc.predict(X_test)\n",
    "print svmc.coef_\n",
    "print precision_score(y_test, svmc_pred)\n",
    "print recall_score(y_test, svmc_pred)"
   ]
  },
  {
   "cell_type": "code",
   "execution_count": 46,
   "metadata": {
    "collapsed": false
   },
   "outputs": [
    {
     "data": {
      "text/plain": [
       "(array([ 0.13468946,  0.99930027,  1.        ]),\n",
       " array([ 1.        ,  0.83248393,  0.        ]),\n",
       " array([0, 1]))"
      ]
     },
     "execution_count": 46,
     "metadata": {},
     "output_type": "execute_result"
    }
   ],
   "source": [
    "precision_recall_curve(y_test, svm.LinearSVC().fit(X_train, y_train).predict(X_test))"
   ]
  },
  {
   "cell_type": "code",
   "execution_count": null,
   "metadata": {
    "collapsed": true
   },
   "outputs": [],
   "source": []
  }
 ],
 "metadata": {
  "kernelspec": {
   "display_name": "Python 2",
   "language": "python",
   "name": "python2"
  },
  "language_info": {
   "codemirror_mode": {
    "name": "ipython",
    "version": 2
   },
   "file_extension": ".py",
   "mimetype": "text/x-python",
   "name": "python",
   "nbconvert_exporter": "python",
   "pygments_lexer": "ipython2",
   "version": "2.7.9"
  }
 },
 "nbformat": 4,
 "nbformat_minor": 0
}
