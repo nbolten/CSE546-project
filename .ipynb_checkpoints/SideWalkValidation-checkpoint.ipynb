{
 "metadata": {
  "name": "",
  "signature": "sha256:73f2638a4aa5f8cb1e848a4365f259577aa03759fdc21aeba35dc41aadbe47d4"
 },
 "nbformat": 3,
 "nbformat_minor": 0,
 "worksheets": [
  {
   "cells": [
    {
     "cell_type": "code",
     "collapsed": false,
     "input": [
      "import pandas as pd\n",
      "import numpy as np\n",
      "import scipy.io as io\n",
      "import scipy.sparse as sp\n",
      "import matplotlib.pyplot as plt\n",
      "from __future__ import division\n",
      "from sklearn import linear_model\n",
      "import gc\n",
      "%matplotlib inline"
     ],
     "language": "python",
     "metadata": {},
     "outputs": [],
     "prompt_number": 2
    },
    {
     "cell_type": "code",
     "collapsed": false,
     "input": [
      "#disable garbage collection \n",
      "gc.disable()"
     ],
     "language": "python",
     "metadata": {},
     "outputs": [],
     "prompt_number": 3
    },
    {
     "cell_type": "heading",
     "level": 3,
     "metadata": {},
     "source": [
      "Read and process the data "
     ]
    },
    {
     "cell_type": "code",
     "collapsed": false,
     "input": [
      "#read CSV files \n",
      "\n",
      "bla = pd.read_csv('NB_1117_raw.csv')\n",
      "bla2 = pd.read_csv('NB_1117_raw.csv')\n",
      "y = pd.read_csv('NB_1117_yMat.csv')\n",
      "y = y['connected']"
     ],
     "language": "python",
     "metadata": {},
     "outputs": [],
     "prompt_number": 5
    },
    {
     "cell_type": "code",
     "collapsed": false,
     "input": [
      "# adding new features (whether numeric elements are the same ) and making feature matrix \n",
      "\n",
      "\n",
      "X_naive = pd.concat([bla2['id_i'],bla2['id_j'],bla2['distance']],axis=1)\n",
      "\n"
     ],
     "language": "python",
     "metadata": {},
     "outputs": [],
     "prompt_number": 22
    },
    {
     "cell_type": "code",
     "collapsed": false,
     "input": [
      "UnqInd = X_naive['id_i'].unique()\n",
      "print UnqInd"
     ],
     "language": "python",
     "metadata": {},
     "outputs": [
      {
       "output_type": "stream",
       "stream": "stdout",
       "text": [
        "[288817 289144 288976 ..., 319296 330633 302878]\n"
       ]
      }
     ],
     "prompt_number": 23
    },
    {
     "cell_type": "heading",
     "level": 3,
     "metadata": {},
     "source": [
      "Check the accuracy of the naive implementation "
     ]
    },
    {
     "cell_type": "code",
     "collapsed": false,
     "input": [
      "#check the number of errors in the naive implementation \n",
      "UnqInd = X_naive['id_i'].unique()\n",
      "yPred = np.zeros(len(y)) \n",
      "\n",
      "for ind in UnqInd:\n",
      "    minInd1 = pd.Series.argmin(X_naive[(X_naive['id_i']==ind)]['distance'])\n",
      "    minInd2 = pd.Series.argmin(X_naive[(X_naive['id_j']==ind)]['distance'])\n",
      "    min1 = pd.Series.min(X_naive[(X_naive['id_i']==ind)]['distance'])\n",
      "    min2 = pd.Series.min(X_naive[(X_naive['id_j']==ind)]['distance'])\n",
      "    if min1<min2:\n",
      "        yPred[minInd1]=1\n",
      "    else:\n",
      "        yPred[minInd2]=1\n",
      "    \n",
      "    \n",
      "perCorr = sum(yPred==y)/len(y)    \n",
      "print perCorr*100"
     ],
     "language": "python",
     "metadata": {},
     "outputs": [
      {
       "output_type": "stream",
       "stream": "stdout",
       "text": [
        "92.6692670478\n"
       ]
      }
     ],
     "prompt_number": 31
    },
    {
     "cell_type": "code",
     "collapsed": false,
     "input": [
      "yCorr = (yPred==y)\n",
      "yPredP = (yPred==1)\n",
      "yPredN = (yPred==0)\n",
      "TP = sum((yCorr[yPred==1]==True))\n",
      "TN = sum((yCorr[yPred==0]==True))\n",
      "FP = sum((yCorr[yPred==1]==False))\n",
      "FN = sum((yCorr[yPred==0]==False))\n",
      "\n",
      "Prec = TP/(TP+FP)\n",
      "Rec = TP/(TP+FN)\n",
      "\n",
      "print Prec*100\n",
      "print Rec*100"
     ],
     "language": "python",
     "metadata": {},
     "outputs": [
      {
       "output_type": "stream",
       "stream": "stdout",
       "text": [
        "84.0759222955\n",
        "56.4108696302\n"
       ]
      }
     ],
     "prompt_number": 32
    },
    {
     "cell_type": "heading",
     "level": 3,
     "metadata": {},
     "source": [
      "Calculate precision, recall & score for crowdsourced data "
     ]
    },
    {
     "cell_type": "code",
     "collapsed": false,
     "input": [
      "crowd_labels = pd.read_csv('./crowdsource-20160208.csv')\n",
      "crowd_labels.head()"
     ],
     "language": "python",
     "metadata": {},
     "outputs": [
      {
       "html": [
        "<div style=\"max-width:1500px;overflow:auto;\">\n",
        "<table border=\"1\" class=\"dataframe\">\n",
        "  <thead>\n",
        "    <tr style=\"text-align: right;\">\n",
        "      <th></th>\n",
        "      <th>swi_id</th>\n",
        "      <th>swj_id</th>\n",
        "      <th>swi_geom</th>\n",
        "      <th>swj_geom</th>\n",
        "      <th>connected</th>\n",
        "      <th>username</th>\n",
        "      <th>timestamp</th>\n",
        "    </tr>\n",
        "  </thead>\n",
        "  <tbody>\n",
        "    <tr>\n",
        "      <th>0</th>\n",
        "      <td>311597</td>\n",
        "      <td>311598</td>\n",
        "      <td>01020000000200000085C2FCA55A945EC03691401219D2...</td>\n",
        "      <td>010200000002000000DB7768EC57945EC0A010211219D2...</td>\n",
        "      <td>0</td>\n",
        "      <td>caspian</td>\n",
        "      <td>2016-02-01 23:03:41.168387+00</td>\n",
        "    </tr>\n",
        "    <tr>\n",
        "      <th>1</th>\n",
        "      <td>302056</td>\n",
        "      <td>302687</td>\n",
        "      <td>010200000002000000AB4840EDEB965EC0BFB16BC256D2...</td>\n",
        "      <td>0102000000020000009AECE51ED8965EC0F0C5418970D2...</td>\n",
        "      <td>1</td>\n",
        "      <td>caspian</td>\n",
        "      <td>2016-02-01 23:03:43.513612+00</td>\n",
        "    </tr>\n",
        "    <tr>\n",
        "      <th>2</th>\n",
        "      <td>298890</td>\n",
        "      <td>302933</td>\n",
        "      <td>0102000000020000005DB5C7D7F6995EC05B821FC124D3...</td>\n",
        "      <td>010200000002000000AD9E97BEE4995EC0D6F8007D07D3...</td>\n",
        "      <td>0</td>\n",
        "      <td>caspian</td>\n",
        "      <td>2016-02-01 23:03:46.180886+00</td>\n",
        "    </tr>\n",
        "    <tr>\n",
        "      <th>3</th>\n",
        "      <td>326590</td>\n",
        "      <td>327223</td>\n",
        "      <td>010200000002000000F3A03016C9985EC05A320173C2C3...</td>\n",
        "      <td>0102000000020000000FE6F93FC9985EC0FAD5BE72DDC3...</td>\n",
        "      <td>1</td>\n",
        "      <td>caspian</td>\n",
        "      <td>2016-02-01 23:04:12.130805+00</td>\n",
        "    </tr>\n",
        "    <tr>\n",
        "      <th>4</th>\n",
        "      <td>305742</td>\n",
        "      <td>305743</td>\n",
        "      <td>01020000000200000074A5B707A4925EC071427AD87DD6...</td>\n",
        "      <td>0102000000020000002F98D0AEB2925EC001FFB3BA7DD6...</td>\n",
        "      <td>1</td>\n",
        "      <td>caspian</td>\n",
        "      <td>2016-02-01 23:04:15.218594+00</td>\n",
        "    </tr>\n",
        "  </tbody>\n",
        "</table>\n",
        "</div>"
       ],
       "metadata": {},
       "output_type": "pyout",
       "prompt_number": 33,
       "text": [
        "   swi_id  swj_id                                           swi_geom  \\\n",
        "0  311597  311598  01020000000200000085C2FCA55A945EC03691401219D2...   \n",
        "1  302056  302687  010200000002000000AB4840EDEB965EC0BFB16BC256D2...   \n",
        "2  298890  302933  0102000000020000005DB5C7D7F6995EC05B821FC124D3...   \n",
        "3  326590  327223  010200000002000000F3A03016C9985EC05A320173C2C3...   \n",
        "4  305742  305743  01020000000200000074A5B707A4925EC071427AD87DD6...   \n",
        "\n",
        "                                            swj_geom  connected username  \\\n",
        "0  010200000002000000DB7768EC57945EC0A010211219D2...          0  caspian   \n",
        "1  0102000000020000009AECE51ED8965EC0F0C5418970D2...          1  caspian   \n",
        "2  010200000002000000AD9E97BEE4995EC0D6F8007D07D3...          0  caspian   \n",
        "3  0102000000020000000FE6F93FC9985EC0FAD5BE72DDC3...          1  caspian   \n",
        "4  0102000000020000002F98D0AEB2925EC001FFB3BA7DD6...          1  caspian   \n",
        "\n",
        "                       timestamp  \n",
        "0  2016-02-01 23:03:41.168387+00  \n",
        "1  2016-02-01 23:03:43.513612+00  \n",
        "2  2016-02-01 23:03:46.180886+00  \n",
        "3  2016-02-01 23:04:12.130805+00  \n",
        "4  2016-02-01 23:04:15.218594+00  "
       ]
      }
     ],
     "prompt_number": 33
    },
    {
     "cell_type": "code",
     "collapsed": false,
     "input": [
      "temp = pd.DataFrame({'connected': yPred})\n",
      "raw_data = pd.concat([X_naive,temp],axis=1)"
     ],
     "language": "python",
     "metadata": {},
     "outputs": [],
     "prompt_number": 37
    },
    {
     "cell_type": "code",
     "collapsed": false,
     "input": [
      "TP = 0. \n",
      "FP = 0.\n",
      "FN = 0.\n",
      "DisLabels = pd.DataFrame()\n",
      "NoConn = sum(raw_data['connected'])\n",
      "NotConn = len(raw_data) - NoConn + 0. \n",
      "for i in range(0,len(crowd_labels)):\n",
      "    temp = raw_data[raw_data['id_i']==crowd_labels['swi_id'][i]]\n",
      "    temp2 = temp[temp['id_j']==crowd_labels['swj_id'][i]]\n",
      "    if temp2['connected'].values!=crowd_labels['connected'][i]:\n",
      "        DisLabels = DisLabels.append(temp2)\n",
      "        if temp2['connected'].values==1:\n",
      "            FP +=1 \n",
      "        else:\n",
      "            FN +=1 \n",
      "            \n",
      "    if temp2['connected'].values==crowd_labels['connected'][i]:\n",
      "        if temp2['connected'].values==1:\n",
      "            TP +=1 \n",
      "\n",
      "    \n",
      "    if (i%1000)==0:\n",
      "        print i \n",
      "    \n",
      "print \"Fraction of Disagreement on Connected Labels : {}\".format(FP/NoConn) \n",
      "print \"Fraction of Disagreement on not Connected Labels : {}\".format(FN/NotConn)\n"
     ],
     "language": "python",
     "metadata": {},
     "outputs": [
      {
       "output_type": "stream",
       "stream": "stdout",
       "text": [
        "0\n",
        "1000"
       ]
      },
      {
       "output_type": "stream",
       "stream": "stdout",
       "text": [
        "\n",
        "2000"
       ]
      },
      {
       "output_type": "stream",
       "stream": "stdout",
       "text": [
        "\n",
        "3000"
       ]
      },
      {
       "output_type": "stream",
       "stream": "stdout",
       "text": [
        "\n",
        "4000"
       ]
      },
      {
       "output_type": "stream",
       "stream": "stdout",
       "text": [
        "\n",
        "5000"
       ]
      },
      {
       "output_type": "stream",
       "stream": "stdout",
       "text": [
        "\n",
        "6000"
       ]
      },
      {
       "output_type": "stream",
       "stream": "stdout",
       "text": [
        "\n",
        "7000"
       ]
      },
      {
       "output_type": "stream",
       "stream": "stdout",
       "text": [
        "\n",
        "8000"
       ]
      },
      {
       "output_type": "stream",
       "stream": "stdout",
       "text": [
        "\n",
        "9000"
       ]
      },
      {
       "output_type": "stream",
       "stream": "stdout",
       "text": [
        "\n",
        "10000"
       ]
      },
      {
       "output_type": "stream",
       "stream": "stdout",
       "text": [
        "\n",
        "Fraction of Disagreement on Connected Labels : 0.00298520762787"
       ]
      },
      {
       "output_type": "stream",
       "stream": "stdout",
       "text": [
        "\n",
        "Fraction of Disagreement on not Connected Labels : 0.00261975383195\n"
       ]
      }
     ],
     "prompt_number": 38
    },
    {
     "cell_type": "code",
     "collapsed": false,
     "input": [
      "print \"Precision : {}\".format(TP/(TP + FP))   \n",
      "print \"Recall : {}\".format(TP/(TP + FN))   \n",
      "print \"Score : {}\".format(1-len(DisLabels)/len(crowd_labels))"
     ],
     "language": "python",
     "metadata": {},
     "outputs": [
      {
       "output_type": "stream",
       "stream": "stdout",
       "text": [
        "Precision : 0.889893179951\n",
        "Recall : 0.478568272205\n",
        "Score : 0.876515365097\n"
       ]
      }
     ],
     "prompt_number": 39
    },
    {
     "cell_type": "code",
     "collapsed": false,
     "input": [
      "raw_data.to_csv('NaivePred.csv')"
     ],
     "language": "python",
     "metadata": {},
     "outputs": [],
     "prompt_number": 40
    },
    {
     "cell_type": "code",
     "collapsed": false,
     "input": [],
     "language": "python",
     "metadata": {},
     "outputs": []
    }
   ],
   "metadata": {}
  }
 ]
}