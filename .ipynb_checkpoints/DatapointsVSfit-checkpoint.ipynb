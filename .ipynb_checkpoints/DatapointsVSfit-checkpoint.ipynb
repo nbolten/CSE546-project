{
 "metadata": {
  "name": "",
  "signature": "sha256:2c1f9fb44a56a79fe4b63ef9a160ec3b9104ec7dc54a89bb244304adc99b9b7c"
 },
 "nbformat": 3,
 "nbformat_minor": 0,
 "worksheets": [
  {
   "cells": [
    {
     "cell_type": "code",
     "collapsed": false,
     "input": [
      "from matplotlib import pyplot as plt\n",
      "import numpy as np\n",
      "import pandas as pd\n",
      "from sklearn import cross_validation, linear_model, preprocessing\n",
      "from sklearn.metrics import precision_recall_curve, precision_score, recall_score\n",
      "\n",
      "%matplotlib inline"
     ],
     "language": "python",
     "metadata": {},
     "outputs": [],
     "prompt_number": 1
    },
    {
     "cell_type": "heading",
     "level": 3,
     "metadata": {},
     "source": [
      "Read data :"
     ]
    },
    {
     "cell_type": "code",
     "collapsed": false,
     "input": [
      "raw_data = pd.read_csv('./learndata-latest.csv')\n",
      "raw_data.head()\n",
      "\n",
      "# Remove features that we shouldn't learn (encoded geometries and sidewalk ID numbers)\n",
      "near_line = raw_data['near_line']  # Save for later\n",
      "del raw_data['near_line']\n",
      "del raw_data['id_i']\n",
      "del raw_data['id_j']"
     ],
     "language": "python",
     "metadata": {},
     "outputs": [],
     "prompt_number": 2
    },
    {
     "cell_type": "code",
     "collapsed": false,
     "input": [
      "# Turn categorical variables into integer labels\n",
      "label_encoder = preprocessing.LabelEncoder()\n",
      "raw_data['curbtype_i'] = label_encoder.fit_transform(raw_data['curbtype_i'])\n",
      "raw_data['curbtype_j'] = label_encoder.fit_transform(raw_data['curbtype_j'])\n",
      "raw_data['side_i'] = label_encoder.fit_transform(raw_data['side_i'])\n",
      "raw_data['side_j'] = label_encoder.fit_transform(raw_data['side_j'])\n",
      "raw_data['surftype_i'] = label_encoder.fit_transform(raw_data['surftype_i'])\n",
      "raw_data['surftype_j'] = label_encoder.fit_transform(raw_data['surftype_j'])\n",
      "raw_data['intersects'] = label_encoder.fit_transform(raw_data['intersects'])\n",
      "\n",
      "X = raw_data\n",
      "\n",
      "X['same_curbtype'] = (X['curbtype_i'] == X['curbtype_j']).astype(int)\n",
      "X['same_surftype'] = (X['surftype_i'] == X['surftype_j']).astype(int)\n",
      "X['same_block'] = (X['bid_i'] == X['bid_j']).astype(int)\n",
      "X['same_side'] = (X['side_i'] == X['side_j']).astype(int)\n",
      "\n",
      "# TODO: There's probably more features we can generate with these two lengths\n",
      "X['length_diff'] = abs(X['length_i'] - X['length_j'])\n",
      "X['sw_width_diff'] = abs(X['sw_width_i'] - X['sw_width_j'])\n",
      "\n",
      "y = X['connected']\n",
      "X = X.drop('connected', 1)\n",
      "X = X.drop('curbtype_i', 1)\n",
      "X = X.drop('curbtype_j', 1)\n",
      "X = X.drop('surftype_i', 1)\n",
      "X = X.drop('surftype_j', 1)\n",
      "\n",
      "X['near_angle'] = abs(X['near_angle'])\n",
      "\n",
      "del X['bid_i']  # This has NaN and will cause errors in sklearn\n",
      "del X['bid_j']\n",
      "\n",
      "del X['side_i']\n",
      "del X['side_j']\n",
      "del X['length_i']\n",
      "del X['length_j']\n",
      "del X['sw_width_i']\n",
      "del X['sw_width_j']\n",
      "\n",
      "X.head()"
     ],
     "language": "python",
     "metadata": {},
     "outputs": [
      {
       "html": [
        "<div style=\"max-width:1500px;overflow:auto;\">\n",
        "<table border=\"1\" class=\"dataframe\">\n",
        "  <thead>\n",
        "    <tr style=\"text-align: right;\">\n",
        "      <th></th>\n",
        "      <th>intersects</th>\n",
        "      <th>near_angle</th>\n",
        "      <th>near_distance</th>\n",
        "      <th>near_line_srid</th>\n",
        "      <th>intersects_street</th>\n",
        "      <th>same_curbtype</th>\n",
        "      <th>same_surftype</th>\n",
        "      <th>same_block</th>\n",
        "      <th>same_side</th>\n",
        "      <th>length_diff</th>\n",
        "      <th>sw_width_diff</th>\n",
        "    </tr>\n",
        "  </thead>\n",
        "  <tbody>\n",
        "    <tr>\n",
        "      <th>0</th>\n",
        "      <td>0</td>\n",
        "      <td>2.283203</td>\n",
        "      <td>34.436532</td>\n",
        "      <td>4326</td>\n",
        "      <td>0</td>\n",
        "      <td>0</td>\n",
        "      <td>0</td>\n",
        "      <td>0</td>\n",
        "      <td>0</td>\n",
        "      <td>16.605270</td>\n",
        "      <td>0</td>\n",
        "    </tr>\n",
        "    <tr>\n",
        "      <th>1</th>\n",
        "      <td>0</td>\n",
        "      <td>3.141594</td>\n",
        "      <td>26.949339</td>\n",
        "      <td>4326</td>\n",
        "      <td>0</td>\n",
        "      <td>1</td>\n",
        "      <td>0</td>\n",
        "      <td>1</td>\n",
        "      <td>1</td>\n",
        "      <td>2.676917</td>\n",
        "      <td>20</td>\n",
        "    </tr>\n",
        "    <tr>\n",
        "      <th>2</th>\n",
        "      <td>0</td>\n",
        "      <td>0.191456</td>\n",
        "      <td>4.190603</td>\n",
        "      <td>4326</td>\n",
        "      <td>0</td>\n",
        "      <td>1</td>\n",
        "      <td>0</td>\n",
        "      <td>0</td>\n",
        "      <td>1</td>\n",
        "      <td>38.449945</td>\n",
        "      <td>0</td>\n",
        "    </tr>\n",
        "    <tr>\n",
        "      <th>3</th>\n",
        "      <td>0</td>\n",
        "      <td>3.723988</td>\n",
        "      <td>13.995332</td>\n",
        "      <td>4326</td>\n",
        "      <td>0</td>\n",
        "      <td>1</td>\n",
        "      <td>0</td>\n",
        "      <td>1</td>\n",
        "      <td>0</td>\n",
        "      <td>46.790971</td>\n",
        "      <td>0</td>\n",
        "    </tr>\n",
        "    <tr>\n",
        "      <th>4</th>\n",
        "      <td>0</td>\n",
        "      <td>3.141596</td>\n",
        "      <td>26.933899</td>\n",
        "      <td>4326</td>\n",
        "      <td>0</td>\n",
        "      <td>1</td>\n",
        "      <td>0</td>\n",
        "      <td>1</td>\n",
        "      <td>1</td>\n",
        "      <td>310.674087</td>\n",
        "      <td>0</td>\n",
        "    </tr>\n",
        "  </tbody>\n",
        "</table>\n",
        "</div>"
       ],
       "metadata": {},
       "output_type": "pyout",
       "prompt_number": 3,
       "text": [
        "   intersects  near_angle  near_distance  near_line_srid  intersects_street  \\\n",
        "0           0    2.283203      34.436532            4326                  0   \n",
        "1           0    3.141594      26.949339            4326                  0   \n",
        "2           0    0.191456       4.190603            4326                  0   \n",
        "3           0    3.723988      13.995332            4326                  0   \n",
        "4           0    3.141596      26.933899            4326                  0   \n",
        "\n",
        "   same_curbtype  same_surftype  same_block  same_side  length_diff  \\\n",
        "0              0              0           0          0    16.605270   \n",
        "1              1              0           1          1     2.676917   \n",
        "2              1              0           0          1    38.449945   \n",
        "3              1              0           1          0    46.790971   \n",
        "4              1              0           1          1   310.674087   \n",
        "\n",
        "   sw_width_diff  \n",
        "0              0  \n",
        "1             20  \n",
        "2              0  \n",
        "3              0  \n",
        "4              0  "
       ]
      }
     ],
     "prompt_number": 3
    },
    {
     "cell_type": "code",
     "collapsed": false,
     "input": [
      "# Scaling appropriate features by subtracting mean and scaling to unit variance\n",
      "scaler = preprocessing.StandardScaler()\n",
      "\n",
      "X['near_distance'] = scaler.fit_transform(X['near_distance'])\n",
      "X['length_diff'] = scaler.fit_transform(X['length_diff'])\n",
      "X['sw_width_diff'] = scaler.fit_transform(X['sw_width_diff'])"
     ],
     "language": "python",
     "metadata": {},
     "outputs": [
      {
       "output_type": "stream",
       "stream": "stderr",
       "text": [
        "C:\\Python27\\lib\\site-packages\\sklearn\\preprocessing\\data.py:583: DeprecationWarning: Passing 1d arrays as data is deprecated in 0.17 and will raise ValueError in 0.19. Reshape your data either using X.reshape(-1, 1) if your data has a single feature or X.reshape(1, -1) if it contains a single sample.\n",
        "  warnings.warn(DEPRECATION_MSG_1D, DeprecationWarning)\n",
        "C:\\Python27\\lib\\site-packages\\sklearn\\preprocessing\\data.py:646: DeprecationWarning: Passing 1d arrays as data is deprecated in 0.17 and will raise ValueError in 0.19. Reshape your data either using X.reshape(-1, 1) if your data has a single feature or X.reshape(1, -1) if it contains a single sample.\n",
        "  warnings.warn(DEPRECATION_MSG_1D, DeprecationWarning)\n",
        "C:\\Python27\\lib\\site-packages\\sklearn\\preprocessing\\data.py:583: DeprecationWarning: Passing 1d arrays as data is deprecated in 0.17 and will raise ValueError in 0.19. Reshape your data either using X.reshape(-1, 1) if your data has a single feature or X.reshape(1, -1) if it contains a single sample.\n",
        "  warnings.warn(DEPRECATION_MSG_1D, DeprecationWarning)\n",
        "C:\\Python27\\lib\\site-packages\\sklearn\\preprocessing\\data.py:646: DeprecationWarning: Passing 1d arrays as data is deprecated in 0.17 and will raise ValueError in 0.19. Reshape your data either using X.reshape(-1, 1) if your data has a single feature or X.reshape(1, -1) if it contains a single sample.\n",
        "  warnings.warn(DEPRECATION_MSG_1D, DeprecationWarning)\n",
        "C:\\Python27\\lib\\site-packages\\sklearn\\utils\\validation.py:420: DataConversionWarning: Data with input dtype int64 was converted to float64 by StandardScaler.\n",
        "  warnings.warn(msg, DataConversionWarning)\n",
        "C:\\Python27\\lib\\site-packages\\sklearn\\preprocessing\\data.py:583: DeprecationWarning: Passing 1d arrays as data is deprecated in 0.17 and will raise ValueError in 0.19. Reshape your data either using X.reshape(-1, 1) if your data has a single feature or X.reshape(1, -1) if it contains a single sample.\n",
        "  warnings.warn(DEPRECATION_MSG_1D, DeprecationWarning)\n",
        "C:\\Python27\\lib\\site-packages\\sklearn\\utils\\validation.py:420: DataConversionWarning: Data with input dtype int64 was converted to float64 by StandardScaler.\n",
        "  warnings.warn(msg, DataConversionWarning)\n",
        "C:\\Python27\\lib\\site-packages\\sklearn\\preprocessing\\data.py:646: DeprecationWarning: Passing 1d arrays as data is deprecated in 0.17 and will raise ValueError in 0.19. Reshape your data either using X.reshape(-1, 1) if your data has a single feature or X.reshape(1, -1) if it contains a single sample.\n",
        "  warnings.warn(DEPRECATION_MSG_1D, DeprecationWarning)\n"
       ]
      }
     ],
     "prompt_number": 4
    },
    {
     "cell_type": "heading",
     "level": 3,
     "metadata": {},
     "source": [
      "See how logistic regression does on training set of varying sizes "
     ]
    },
    {
     "cell_type": "code",
     "collapsed": false,
     "input": [
      "from __future__ import division\n",
      "Xp = preprocessing.PolynomialFeatures(2).fit_transform(X)\n",
      "logisticp = linear_model.LogisticRegression(penalty='l1', C=0.001)"
     ],
     "language": "python",
     "metadata": {},
     "outputs": [],
     "prompt_number": 8
    },
    {
     "cell_type": "code",
     "collapsed": false,
     "input": [
      "# calculate the score, precision and recall for different size of training set \n",
      "\n",
      "train_size = np.array([.1,.05,.01,.005,.001,.0005,.0001])\n",
      "noIter = 10.0 \n",
      "Score = np.zeros((len(train_size)))\n",
      "Prec = np.zeros((len(train_size)))\n",
      "Rec = np.zeros((len(train_size)))\n",
      "\n",
      "for i in range(0,len(train_size)):\n",
      "    for j in range(0,int(noIter)):\n",
      "        Xp_train, Xp_test, yp_train, yp_test = cross_validation.train_test_split(Xp, y, test_size=1.0 - train_size[i])\n",
      "        logisticp.fit(Xp_train, yp_train)\n",
      "        Score[i] = Score[i] + (logisticp.score(Xp_test, yp_test)/noIter) + 0. \n",
      "        pred = logisticp.predict(Xp_test)\n",
      "        Prec[i] = Prec[i] + (precision_score(yp_test, pred)/noIter) + 0.\n",
      "        Rec[i] = Rec[i] + (recall_score(yp_test, pred)/noIter) + 0."
     ],
     "language": "python",
     "metadata": {},
     "outputs": [],
     "prompt_number": 19
    },
    {
     "cell_type": "code",
     "collapsed": false,
     "input": [
      "#Plot how score varies \n",
      "plt.plot(train_size,Score,train_size,Prec,train_size,Rec)\n",
      "plt.xlabel('test set size (fraction of total)')\n",
      "plt.legend(('Score','Precision','Recall'),loc='best')"
     ],
     "language": "python",
     "metadata": {},
     "outputs": [
      {
       "metadata": {},
       "output_type": "pyout",
       "prompt_number": 20,
       "text": [
        "<matplotlib.legend.Legend at 0x13507470>"
       ]
      },
      {
       "metadata": {},
       "output_type": "display_data",
       "png": "[encoded data removed]",
       "text": [
        "<matplotlib.figure.Figure at 0x129342b0>"
       ]
      }
     ],
     "prompt_number": 20
    },
    {
     "cell_type": "code",
     "collapsed": false,
     "input": [
      "Score "
     ],
     "language": "python",
     "metadata": {},
     "outputs": [
      {
       "metadata": {},
       "output_type": "pyout",
       "prompt_number": 21,
       "text": [
        "array([ 0.98418627,  0.98469639,  0.9849919 ,  0.98506055,  0.97739159,\n",
        "        0.97481474,  0.79398145])"
       ]
      }
     ],
     "prompt_number": 21
    },
    {
     "cell_type": "code",
     "collapsed": false,
     "input": [
      "Prec"
     ],
     "language": "python",
     "metadata": {},
     "outputs": [
      {
       "metadata": {},
       "output_type": "pyout",
       "prompt_number": 23,
       "text": [
        "array([ 0.97179569,  0.97450025,  0.97298339,  0.97373436,  0.94828802,\n",
        "        0.9238316 ,  0.37226396])"
       ]
      }
     ],
     "prompt_number": 23
    },
    {
     "cell_type": "code",
     "collapsed": false,
     "input": [
      "Rec"
     ],
     "language": "python",
     "metadata": {},
     "outputs": [
      {
       "metadata": {},
       "output_type": "pyout",
       "prompt_number": 24,
       "text": [
        "array([ 0.93423797,  0.93447476,  0.9379471 ,  0.93752305,  0.91725868,\n",
        "        0.92875623,  0.30553535])"
       ]
      }
     ],
     "prompt_number": 24
    },
    {
     "cell_type": "code",
     "collapsed": false,
     "input": [],
     "language": "python",
     "metadata": {},
     "outputs": []
    }
   ],
   "metadata": {}
  }
 ]
}