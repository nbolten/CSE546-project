{
 "metadata": {
  "name": "",
  "signature": "sha256:6632dcf42f26ed4eed580ccb0a3bba4a62030654fd77457020f8d760f78d66c9"
 },
 "nbformat": 3,
 "nbformat_minor": 0,
 "worksheets": [
  {
   "cells": [
    {
     "cell_type": "code",
     "collapsed": false,
     "input": [
      "import pandas as pd\n",
      "import numpy as np\n",
      "import scipy.io as io\n",
      "import scipy.sparse as sp\n",
      "import matplotlib.pyplot as plt\n",
      "from __future__ import division\n",
      "from sklearn import linear_model\n",
      "import gc\n",
      "%matplotlib inline"
     ],
     "language": "python",
     "metadata": {},
     "outputs": [],
     "prompt_number": 1
    },
    {
     "cell_type": "code",
     "collapsed": false,
     "input": [
      "#disable garbage collection \n",
      "gc.disable()"
     ],
     "language": "python",
     "metadata": {},
     "outputs": [],
     "prompt_number": 2
    },
    {
     "cell_type": "heading",
     "level": 3,
     "metadata": {},
     "source": [
      "Read and process the data "
     ]
    },
    {
     "cell_type": "code",
     "collapsed": false,
     "input": [
      "#read CSV files \n",
      "\n",
      "bla = pd.read_csv('NB_1117_raw.csv')\n",
      "bla2 = pd.read_csv('NB_1117_raw.csv')\n",
      "y = pd.read_csv('NB_1117_yMat.csv')\n",
      "y = y['connected']"
     ],
     "language": "python",
     "metadata": {},
     "outputs": [],
     "prompt_number": 3
    },
    {
     "cell_type": "code",
     "collapsed": false,
     "input": [
      "#get unique elements of each feature \n",
      "\n",
      "curbtypeName = pd.Series(bla['curbtype_i'].unique())\n",
      "surfName = pd.Series(bla['surftype_i'].unique())\n",
      "intersectsName = pd.Series(bla['intersects'].unique())"
     ],
     "language": "python",
     "metadata": {},
     "outputs": [],
     "prompt_number": 4
    },
    {
     "cell_type": "code",
     "collapsed": false,
     "input": [
      "#convert features from strings to numbers\n",
      "\n",
      "for i in range(0,len(curbtypeName)):\n",
      "    bla2['curbtype_i'][bla['curbtype_i'].str.match(curbtypeName[i])] = float(i)\n",
      "    bla2['curbtype_j'][bla['curbtype_j'].str.match(curbtypeName[i])] = float(i)    \n",
      "    \n",
      "for i in range(0,len(surfName)):\n",
      "    bla2['surftype_i'][bla['surftype_i'].str.match(surfName[i])] = float(i)\n",
      "    bla2['surftype_j'][bla['surftype_j'].str.match(surfName[i])] = float(i)    \n",
      "    \n",
      "for i in range(0,len(intersectsName)):\n",
      "    bla2['intersects'][bla['intersects'].str.match(intersectsName[i])] = float(i)\n",
      "        "
     ],
     "language": "python",
     "metadata": {},
     "outputs": [
      {
       "output_type": "stream",
       "stream": "stderr",
       "text": [
        "-c:4: SettingWithCopyWarning: \n",
        "A value is trying to be set on a copy of a slice from a DataFrame\n",
        "\n",
        "See the the caveats in the documentation: http://pandas.pydata.org/pandas-docs/stable/indexing.html#indexing-view-versus-copy\n",
        "-c:5: SettingWithCopyWarning: \n",
        "A value is trying to be set on a copy of a slice from a DataFrame\n",
        "\n",
        "See the the caveats in the documentation: http://pandas.pydata.org/pandas-docs/stable/indexing.html#indexing-view-versus-copy\n"
       ]
      },
      {
       "output_type": "stream",
       "stream": "stderr",
       "text": [
        "-c:8: SettingWithCopyWarning: \n",
        "A value is trying to be set on a copy of a slice from a DataFrame\n",
        "\n",
        "See the the caveats in the documentation: http://pandas.pydata.org/pandas-docs/stable/indexing.html#indexing-view-versus-copy\n",
        "-c:9: SettingWithCopyWarning: \n",
        "A value is trying to be set on a copy of a slice from a DataFrame\n",
        "\n",
        "See the the caveats in the documentation: http://pandas.pydata.org/pandas-docs/stable/indexing.html#indexing-view-versus-copy\n"
       ]
      },
      {
       "output_type": "stream",
       "stream": "stderr",
       "text": [
        "-c:12: SettingWithCopyWarning: \n",
        "A value is trying to be set on a copy of a slice from a DataFrame\n",
        "\n",
        "See the the caveats in the documentation: http://pandas.pydata.org/pandas-docs/stable/indexing.html#indexing-view-versus-copy\n"
       ]
      }
     ],
     "prompt_number": 5
    },
    {
     "cell_type": "code",
     "collapsed": false,
     "input": [
      "# adding new features (whether numeric elements are the same ) and making feature matrix \n",
      "\n",
      "curbSame = 1*(bla2['curbtype_i']==bla2['curbtype_i'])\n",
      "surfSame = 1*(bla2['surftype_i']==bla2['surftype_j'])\n",
      "distInd = abs(bla2['id_i']-bla2['id_j']) #calculating absolute value of distance between indices \n",
      "distInd = distInd/max(distInd)\n",
      "\n",
      "X_naive = np.array([bla2['id_i'],bla2['id_j'],bla2['distance']])\n",
      "\n",
      "X = np.array([bla2['sw_width_i'],bla2['sw_width_j'],bla2['side_i'],bla2['side_j'],bla2['surftype_i'],\\\n",
      "              bla2['surftype_j'],bla2['distance'],bla2['intersects'],curbSame,surfSame,distInd])\n",
      "X_naive = X_naive.T\n",
      "X = X.T + 0.0001"
     ],
     "language": "python",
     "metadata": {},
     "outputs": [],
     "prompt_number": 28
    },
    {
     "cell_type": "code",
     "collapsed": false,
     "input": [
      "#randomly shuffle the data \n",
      "\n",
      "#y = y['connected']\n",
      "\n",
      "In = range(0,len(y))    #indices corresponding to original data \n",
      "\n",
      "\n",
      "InR = np.random.shuffle(In)\n",
      "\n",
      "yR = y[In]\n",
      "Xr = X[In,:] \n",
      "X_naiveR = X_naive[In,:]\n",
      "\n",
      "yR = yR[:50000]\n",
      "Xr = Xr[:50000,:]\n",
      "X_naiveR = X_naiveR[:50000,:]"
     ],
     "language": "python",
     "metadata": {},
     "outputs": [],
     "prompt_number": 29
    },
    {
     "cell_type": "heading",
     "level": 3,
     "metadata": {},
     "source": [
      "Check the accuracy of the naive implementation "
     ]
    },
    {
     "cell_type": "code",
     "collapsed": false,
     "input": [
      "#check the number of errors in the naive implementation \n",
      "yPred = np.zeros(len(yR))\n",
      "UnqInd = np.unique(X_naiveR[:,0])\n",
      "for ind in UnqInd:\n",
      "    minInd = np.argmin(X_naiveR[(X_naiveR[:,0]==ind),2])\n",
      "    yPred[minInd]=1\n",
      "    \n",
      "perCorr = sum(yPred==yR)/len(yR)    \n",
      "print perCorr*100"
     ],
     "language": "python",
     "metadata": {},
     "outputs": [
      {
       "output_type": "stream",
       "stream": "stdout",
       "text": [
        "86.676\n"
       ]
      }
     ],
     "prompt_number": 44
    },
    {
     "cell_type": "code",
     "collapsed": false,
     "input": [],
     "language": "python",
     "metadata": {},
     "outputs": []
    }
   ],
   "metadata": {}
  }
 ]
}